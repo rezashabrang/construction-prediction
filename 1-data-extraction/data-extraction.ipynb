{
 "cells": [
  {
   "cell_type": "code",
   "execution_count": 13,
   "source": [
    "import os\r\n",
    "import xlrd\r\n",
    "import pandas as pd\r\n",
    "import glob\r\n",
    "import re"
   ],
   "outputs": [],
   "metadata": {
    "collapsed": false,
    "pycharm": {
     "name": "#%%\n",
     "is_executing": false
    }
   }
  },
  {
   "cell_type": "code",
   "execution_count": 14,
   "source": [
    "#Getting MSP files\r\n",
    "msp_files = os.listdir('path/to/dataset/folder')\r\n",
    "msp_files[0]\r\n"
   ],
   "outputs": [
    {
     "output_type": "execute_result",
     "data": {
      "text/plain": [
       "'C2011-01 Nursing Home Noordhinder.xlsx'"
      ]
     },
     "metadata": {},
     "execution_count": 14
    }
   ],
   "metadata": {
    "collapsed": false,
    "pycharm": {
     "name": "#%%\n",
     "is_executing": false
    }
   }
  },
  {
   "cell_type": "code",
   "execution_count": 15,
   "source": [
    "#reading Columns names from file\r\n",
    "columns_names = []\r\n",
    "with open('column-names.txt', 'r') as filehandle:\r\n",
    "    names = filehandle.readlines()\r\n",
    "    for name in names:\r\n",
    "        columns_names.append(str(name).rstrip('\\n'))\r\n",
    "#Creating Raw DataFrame\r\n",
    "dataframe =pd.DataFrame(columns=columns_names)\r\n",
    "dataframe\r\n"
   ],
   "outputs": [
    {
     "output_type": "execute_result",
     "data": {
      "text/plain": [
       "Empty DataFrame\n",
       "Columns: [ID, Name, Baseline Start, Baseline End, Duration, Resource Demand, Resource Cost, Fixed Cost, Cost/Hour, Variable Cost, Total Cost, Actual Start, Actual Duration, PAC, PRC, Remaining Duration, PAC Dev, PRC Dev, Actual Cost, Remaining Cost, Percentage Completed, Tracking, Earned Value (EV), Planned Value (PV), project_name]\n",
       "Index: []\n",
       "\n",
       "[0 rows x 25 columns]"
      ],
      "text/html": [
       "<div>\n",
       "<style scoped>\n",
       "    .dataframe tbody tr th:only-of-type {\n",
       "        vertical-align: middle;\n",
       "    }\n",
       "\n",
       "    .dataframe tbody tr th {\n",
       "        vertical-align: top;\n",
       "    }\n",
       "\n",
       "    .dataframe thead th {\n",
       "        text-align: right;\n",
       "    }\n",
       "</style>\n",
       "<table border=\"1\" class=\"dataframe\">\n",
       "  <thead>\n",
       "    <tr style=\"text-align: right;\">\n",
       "      <th></th>\n",
       "      <th>ID</th>\n",
       "      <th>Name</th>\n",
       "      <th>Baseline Start</th>\n",
       "      <th>Baseline End</th>\n",
       "      <th>Duration</th>\n",
       "      <th>Resource Demand</th>\n",
       "      <th>Resource Cost</th>\n",
       "      <th>Fixed Cost</th>\n",
       "      <th>Cost/Hour</th>\n",
       "      <th>Variable Cost</th>\n",
       "      <th>...</th>\n",
       "      <th>Remaining Duration</th>\n",
       "      <th>PAC Dev</th>\n",
       "      <th>PRC Dev</th>\n",
       "      <th>Actual Cost</th>\n",
       "      <th>Remaining Cost</th>\n",
       "      <th>Percentage Completed</th>\n",
       "      <th>Tracking</th>\n",
       "      <th>Earned Value (EV)</th>\n",
       "      <th>Planned Value (PV)</th>\n",
       "      <th>project_name</th>\n",
       "    </tr>\n",
       "  </thead>\n",
       "  <tbody>\n",
       "  </tbody>\n",
       "</table>\n",
       "<p>0 rows × 25 columns</p>\n",
       "</div>"
      ]
     },
     "metadata": {},
     "execution_count": 15
    }
   ],
   "metadata": {
    "collapsed": false,
    "pycharm": {
     "name": "#%%\n",
     "is_executing": false
    }
   }
  },
  {
   "cell_type": "code",
   "execution_count": 16,
   "source": [
    "#Reading the sheets\r\n",
    "df_list = []\r\n",
    "no_tp = []\r\n",
    "for file in msp_files:\r\n",
    "    final_TP = \"\"\r\n",
    "    xls = xlrd.open_workbook('path/to/dataset/folder'+file)\r\n",
    "    for sheet_name in list(xls.sheet_names()):\r\n",
    "        if re.match('TP[0-9]+',sheet_name):\r\n",
    "            # Checking TP acquisition\r\n",
    "            # sheet_num = re.match(r\"(TP)([0-9]+)\",sheet_name)\r\n",
    "            # print(sheet_num.group(2))\r\n",
    "            final_TP = sheet_name\r\n",
    "    try:\r\n",
    "        if final_TP != \"\":\r\n",
    "            df = pd.read_excel('path/to/dataset/folder'+file, sheet_name=final_TP,header=None)\r\n",
    "            df =df[3:]\r\n",
    "            df = df.drop(df.iloc[:,24:],axis=1)\r\n",
    "            headers = df.iloc[0]\r\n",
    "            df =df[1:]\r\n",
    "            df.columns = headers\r\n",
    "            df['project_name'] = file\r\n",
    "            df.reset_index(drop=True)\r\n",
    "            df_list.append(df)\r\n",
    "            print(\"Added \"+ file)\r\n",
    "        else:\r\n",
    "            print(\"NO TP for \"+ file)\r\n",
    "            no_tp.append(file)\r\n",
    "    except:\r\n",
    "        print(\"Not successful for \"+ file)\r\n",
    "dataset = pd.concat(df_list)    \r\n",
    "dataset.to_excel('data.xlsx')\r\n",
    "with open(\"no-tp.txt\",'w') as file_tp:\r\n",
    "    for project in no_tp:\r\n",
    "        file_tp.writeline(project)\r\n",
    "no_tp_perc = int(len(no_tp))/int(len(msp_files))\r\n",
    "print(\"the percentage that has no tp:\"+ str(no_tp_perc))\r\n",
    "print('Number of no-tp Files: '+ str(len(no_tp)))"
   ],
   "outputs": [
    {
     "output_type": "stream",
     "name": "stdout",
     "text": [
      "NO TP for C2011-01 Nursing Home Noordhinder.xlsx\n",
      "NO TP for C2011-02 Social Housing Kortrijk.xlsx\n",
      "NO TP for C2011-03 Family Day.xlsx\n",
      "NO TP for C2011-04 Railway Station Sint-Joost.xlsx\n",
      "Added C2011-05 Telecom System Agnes.xlsx\n",
      "NO TP for C2011-06 Veterinary Exposition.xlsx\n",
      "Added C2011-07 Patient Transport System.xlsx\n",
      "NO TP for C2011-08 Sports Center Tielt.xlsx\n",
      "NO TP for C2011-09 Commercial IT Project.xlsx\n",
      "Added C2011-10 Building a House.xlsx\n",
      "NO TP for C2011-11 Eating Belgium.xlsx\n",
      "Added C2011-12 Claeys-Verhelst Premises.xlsx\n",
      "Added C2011-13 Wind Farm.xlsx\n",
      "NO TP for C2011-14 Hotel Reylof.xlsx\n",
      "NO TP for C2012-01 Manufacturing Tool Cost Module.xlsx\n",
      "NO TP for C2012-02 Nut Mixing Station.xlsx\n",
      "NO TP for C2012-03 Day Care.xlsx\n",
      "NO TP for C2012-04 Asti-Cuneo Highway.xlsx\n",
      "NO TP for C2012-05 Tappan Zee Bridge.xlsx\n",
      "NO TP for C2012-06 Youth Hostel Merkenveld.xlsx\n",
      "NO TP for C2012-07 Solar Park.xlsx\n",
      "NO TP for C2012-08 Sea Electricity.xlsx\n",
      "NO TP for C2012-09 Digipolis Talent Management Suite.xlsx\n",
      "NO TP for C2012-10 Gabala Resort Outdoor Pool.xlsx\n",
      "NO TP for C2012-11 MIVB SeSaMe.xlsx\n",
      "\n",
      "NO TP for C2012-12 Railway Station Ghent.xlsx\n",
      "Added C2012-13 Pumping Station Jabbeke.xlsx\n",
      "NO TP for C2012-14 Sluiskil Tunnel.xlsx\n",
      "Added C2012-15 The Master Project.xlsx\n",
      "NO TP for C2012-16 Metal Extraction.xlsx\n",
      "Added C2012-17 Building a Dream.xlsx\n",
      "Added C2013-01 Wiedauwkaai Fenders.xlsx\n",
      "Added C2013-02 Sewage Plant Hove.xlsx\n",
      "Added C2013-03 Brussels Finance Tower.xlsx\n",
      "Added C2013-04 Kitchen Tower Anderlecht.xlsx\n",
      "Added C2013-05 PET Packaging.xlsx\n",
      "Added C2013-06 Government Office Building.xlsx\n",
      "Added C2013-07 Family Residence.xlsx\n",
      "Added C2013-08 Timber House.xlsx\n",
      "Added C2013-09 Urban Development Project.xlsx\n",
      "Added C2013-10 Town Square.xlsx\n",
      "Added C2013-11 Recreation Complex.xlsx\n",
      "Added C2013-12 Young Cattle Barn.xlsx\n",
      "Added C2013-13 Office Finishing Works (1).xlsx\n",
      "Added C2013-14 Office Finishing Works (2).xlsx\n",
      "Added C2013-15 Office Finishing Works (3).xlsx\n",
      "Added C2013-16 Office Finishing Works (4).xlsx\n",
      "Added C2013-17 Office Finishing Works (5).xlsx\n",
      "Added C2014-01 Mixed-use Building.xlsx\n",
      "Added C2014-02 Playing Cards.xlsx\n",
      "Added C2014-03 Organizational Development.xlsx\n",
      "Added C2014-04 Compressor Station Zelzate.xlsx\n",
      "Added C2014-05 Apartment Building (1).xlsx\n",
      "Added C2014-06 Apartment Building (2).xlsx\n",
      "Added C2014-07 Apartment Building (3).xlsx\n",
      "Added C2014-08 Apartment Building (4).xlsx\n",
      "Added C2015-01 Young Cattle Barn (2).xlsx\n",
      "Added C2015-02 Railway Station (1).xlsx\n",
      "Added C2015-03 Industrial Complex (1).xlsx\n",
      "Added C2015-04 Apartment Building (5).xlsx\n",
      "Added C2015-05 Apartment Building (6).xlsx\n",
      "Added C2015-06 Family Residence (2).xlsx\n",
      "Added C2015-07 Industrial Complex (2).xlsx\n",
      "Added C2015-08 Garden Center.xlsx\n",
      "Added C2015-09 Railway Station (2).xlsx\n",
      "Added C2015-10 Tax Return System (1).xlsx\n",
      "Added C2015-11 Staff Authorization System.xlsx\n",
      "Added C2015-12 Premium Payment System.xlsx\n",
      "Added C2015-13 Broker Account Conversion System.xlsx\n",
      "Added C2015-14 Supplementary Pensions Database.xlsx\n",
      "Added C2015-15 FACTA System.xlsx\n",
      "Added C2015-16 Generic Document Output System.xlsx\n",
      "Added C2015-17 Insurance Bundling System.xlsx\n",
      "Added C2015-18 Tax Return System (2).xlsx\n",
      "Added C2015-19 Receipt Numbering System.xlsx\n",
      "Added C2015-20 Policy Numbering System.xlsx\n",
      "Added C2015-21 Investment Product (1).xlsx\n",
      "Added C2015-22 Risk Profile Questionnaire.xlsx\n",
      "Added C2015-23 Investment Product (2).xlsx\n",
      "Added C2015-24 CRM System.xlsx\n",
      "Added C2015-25 Beer Tasting.xlsx\n",
      "Added C2015-26 Debt Collection System.xlsx\n",
      "Added C2015-27 Railway Station Antwerp.xlsx\n",
      "Added C2015-28 Website Tennis Vlaanderen.xlsx\n",
      "Added C2015-29 Fire Station.xlsx\n",
      "Added C2015-30 Social Apartments Ypres (1).xlsx\n",
      "Added C2015-31 Social Apartments Ypres (2).xlsx\n",
      "Added C2015-32 Social Apartments Ypres (3).xlsx\n",
      "Added C2015-33 IJzertoren Memorial Square.xlsx\n",
      "Added C2015-34 Roadworks Poperinge.xlsx\n",
      "Added C2015-35 Retirement Apartments.xlsx\n",
      "Added C2016-01 Railway Bridge (1).xlsx\n",
      "Added C2016-02 Railway Bridge (2).xlsx\n",
      "Added C2016-03 Railway Bridge (3).xlsx\n",
      "Added C2016-04 Railway Bridge (4).xlsx\n",
      "Added C2016-05 Railway Bridge (5).xlsx\n",
      "Added C2016-06 Defense Building.xlsx\n",
      "Added C2016-07 Shopping Village Walkways.xlsx\n",
      "Added C2016-08 SCM System.xlsx\n",
      "Added C2016-09 Data Loss Prevention System.xlsx\n",
      "Added C2016-10 Biofuel Refinery.xlsx\n",
      "Added C2016-11 Residential House (1).xlsx\n",
      "Added C2016-12 Residential House (2).xlsx\n",
      "Added C2016-13 Residential House (3).xlsx\n",
      "Added C2016-14 Residential House (4).xlsx\n",
      "Added C2016-15 Residential House Structural Work.xlsx\n",
      "Added C2016-16 Residential House Finishing Works (1).xlsx\n",
      "Added C2016-17 Residential House Finishing Works (2).xlsx\n",
      "Added C2016-18 Residential House Finishing Works (3).xlsx\n",
      "Added C2016-19 Residential House Finishing Works (4).xlsx\n",
      "Added C2016-20 Residential House Finishing Works (5).xlsx\n",
      "Added C2016-21 Residential House Finishing Works (6).xlsx\n",
      "Added C2016-22 Residential House Finishing Works (7).xlsx\n",
      "Added C2016-23 Residential House Finishing Works (8).xlsx\n",
      "Added C2016-24 Residential House Finishing Works (9).xlsx\n",
      "Added C2016-25 Residential House Finishing Works (10).xlsx\n",
      "Added C2016-26 Residential House Finishing Works (11).xlsx\n",
      "Added C2016-27 Apartment Building Foundations.xlsx\n",
      "Added C2016-28 Apartment Building Structural Work (1).xlsx\n",
      "Added C2016-29 Apartment Building Structural Work (2).xlsx\n",
      "Added C2016-30 Apartment Building Structural Work (3).xlsx\n",
      "Added C2016-31 Apartment Building Finishing Works (1).xlsx\n",
      "Added C2016-32 Apartment Building Finishing Works (2).xlsx\n",
      "Added C2016-33 Apartment Building Finishing Works (3).xlsx\n",
      "Added C2016-34 Apartment Building Finishing Works (4).xlsx\n",
      "Added C2019-01 Lepelstraat.xlsx\n",
      "Added C2019-02 Social Housing.xlsx\n",
      "Added C2019-04 Nuclear Healthcare.xlsx\n",
      "Added C2019-05 Fuel Tank Filter.xlsx\n",
      "Added C2019-06 Production Line Change.xlsx\n",
      "Added C2019-07 Gluing Machine.xlsx\n",
      "Added C2019-08 Labeling Machine.xlsx\n",
      "the percentage that has no tp:0.17424242424242425\n",
      "Number of no-tp Files: 23\n"
     ]
    }
   ],
   "metadata": {
    "collapsed": false,
    "pycharm": {
     "name": "#%%\n",
     "is_executing": false
    }
   }
  }
 ],
 "metadata": {
  "kernelspec": {
   "name": "python3",
   "language": "python",
   "display_name": "Python 3"
  },
  "pycharm": {
   "stem_cell": {
    "cell_type": "raw",
    "source": [],
    "metadata": {
     "collapsed": false
    }
   }
  }
 },
 "nbformat": 4,
 "nbformat_minor": 4
}