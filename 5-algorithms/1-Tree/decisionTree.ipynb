{
 "cells": [
  {
   "cell_type": "code",
   "execution_count": 10,
   "metadata": {
    "collapsed": true,
    "pycharm": {
     "is_executing": false
    }
   },
   "outputs": [],
   "source": [
    "import pandas as pd\n",
    "import numpy as np\n",
    "from sklearn.tree import DecisionTreeRegressor\n",
    "from sklearn.model_selection import train_test_split\n",
    "from sklearn.metrics import mean_squared_error as MSE\n",
    "from sklearn.metrics import mean_absolute_error as MAE\n",
    "from sklearn.metrics import  mean_absolute_percentage_error as MAPE\n",
    "from sklearn import tree\n",
    "import matplotlib.pyplot as plt\n",
    "import pydotplus\n",
    "import pickle\n",
    "from sklearn.model_selection import cross_val_score\n",
    "from sklearn.model_selection import RandomizedSearchCV\n",
    "from sklearn.model_selection import GridSearchCV\n",
    "from sklearn.preprocessing import StandardScaler, MinMaxScaler\n",
    "from IPython.display import clear_output\n",
    "from sklearn.neighbors import KNeighborsRegressor\n",
    "from sklearn.svm import SVR\n",
    "from sklearn.naive_bayes import GaussianNB\n",
    "from matplotlib import style\n",
    "style.use('ggplot')"
   ]
  },
  {
   "cell_type": "code",
   "execution_count": 2,
   "outputs": [
    {
     "data": {
      "text/plain": "   Duration  Resource Cost  Fixed Cost  Cost/Hour  Variable Cost  Total Cost  \\\n0       3.0         2400.0         0.0        0.0            0.0      2400.0   \n1       1.0          800.0         0.0        0.0            0.0       800.0   \n2       1.0          440.0         0.0        0.0            0.0       440.0   \n\n   Actual Cost  \n0       2400.0  \n1        800.0  \n2        440.0  ",
      "text/html": "<div>\n<style scoped>\n    .dataframe tbody tr th:only-of-type {\n        vertical-align: middle;\n    }\n\n    .dataframe tbody tr th {\n        vertical-align: top;\n    }\n\n    .dataframe thead th {\n        text-align: right;\n    }\n</style>\n<table border=\"1\" class=\"dataframe\">\n  <thead>\n    <tr style=\"text-align: right;\">\n      <th></th>\n      <th>Duration</th>\n      <th>Resource Cost</th>\n      <th>Fixed Cost</th>\n      <th>Cost/Hour</th>\n      <th>Variable Cost</th>\n      <th>Total Cost</th>\n      <th>Actual Cost</th>\n    </tr>\n  </thead>\n  <tbody>\n    <tr>\n      <th>0</th>\n      <td>3.0</td>\n      <td>2400.0</td>\n      <td>0.0</td>\n      <td>0.0</td>\n      <td>0.0</td>\n      <td>2400.0</td>\n      <td>2400.0</td>\n    </tr>\n    <tr>\n      <th>1</th>\n      <td>1.0</td>\n      <td>800.0</td>\n      <td>0.0</td>\n      <td>0.0</td>\n      <td>0.0</td>\n      <td>800.0</td>\n      <td>800.0</td>\n    </tr>\n    <tr>\n      <th>2</th>\n      <td>1.0</td>\n      <td>440.0</td>\n      <td>0.0</td>\n      <td>0.0</td>\n      <td>0.0</td>\n      <td>440.0</td>\n      <td>440.0</td>\n    </tr>\n  </tbody>\n</table>\n</div>"
     },
     "metadata": {},
     "output_type": "execute_result",
     "execution_count": 2
    }
   ],
   "source": [
    "df = pd.read_excel('../final_data.xlsx')\n",
    "df=df.iloc[:,1:]\n",
    "df_org = df.copy()\n",
    "df.head(3)"
   ],
   "metadata": {
    "collapsed": false,
    "pycharm": {
     "name": "#%%\n",
     "is_executing": false
    }
   }
  },
  {
   "cell_type": "code",
   "execution_count": 50,
   "outputs": [],
   "source": [
    "#Standardization or Normalization\n",
    "for column in df.columns:\n",
    "    df[column] = MinMaxScaler().fit_transform(np.array(df[column]).reshape(-1,1))\n",
    "df.head(10)"
   ],
   "metadata": {
    "collapsed": false,
    "pycharm": {
     "name": "#%%\n",
     "is_executing": false
    }
   }
  },
  {
   "cell_type": "code",
   "execution_count": 3,
   "outputs": [],
   "source": [
    "# setting x and y\n",
    "X = df.drop('Actual Cost',axis=1)\n",
    "# X = df[['Duration','Total Cost']]\n",
    "y = df['Actual Cost']\n",
    "# preparing test and train\n",
    "X_train,X_test,y_train,y_test = train_test_split(\n",
    "    X,y,test_size=0.2,random_state=41\n",
    ")"
   ],
   "metadata": {
    "collapsed": false,
    "pycharm": {
     "name": "#%%\n",
     "is_executing": false
    }
   }
  },
  {
   "cell_type": "code",
   "execution_count": 14,
   "outputs": [],
   "source": [
    "def generate_metrics(model):\n",
    "    cr_score = -cross_val_score(tree_regressor,X_train,y_train,scoring='neg_mean_absolute_percentage_error',cv=3)\n",
    "    model.fit(X_train,y_train)\n",
    "    train_r2 = model.score(X_train,y_train)\n",
    "    test_r2 = model.score(X_test,y_test)\n",
    "    y_pred = model.predict(X_test)\n",
    "    error_MAE = MAE(y_pred,y_test)\n",
    "    error_MSE = MSE(y_test,y_pred)\n",
    "    error_MAPE = MAPE(y_test,y_pred)\n",
    "    return cr_score,train_r2,test_r2,error_MAE,error_MSE,error_MAPE\n",
    "def print_metrics(cr,tr_R,ts_R,mae,mse):\n",
    "    print(\"Cross-Validation-Score:\"+str(np.average(cr)))\n",
    "    print(\"MAE: \"+str(mae))\n",
    "    print('MSE: '+str(mse))\n",
    "    print(\"Train R2: \"+ str(tr_R))\n",
    "    print(\"Test R2: \"+ str(ts_R))\n",
    "def plot_mae(x,cr,mae,x_label):\n",
    "    fig = plt.figure()\n",
    "    plt.title('Tree HyperParameter OPT')\n",
    "    plt.xlabel(x_label)\n",
    "    plt.ylabel(\"error\")\n",
    "    plt.plot(x,cr,c='green',label='Cross-Val')\n",
    "    plt.plot(x,mae,c='red',label='Test-MAE')\n",
    "    plt.legend()\n",
    "    plt.savefig('pics/'+x_label+'.png')\n",
    "    plt.show()\n",
    "def plot_mape(x,cr,mape,x_label):\n",
    "    min_x = x[mape.index(min(mape))]\n",
    "    min_y = min(mape)\n",
    "    min_cr_x = x[cr.index(min(cr))]\n",
    "    min_cr_y = min(cr)\n",
    "    fig = plt.figure()\n",
    "    plt.title('Tree HyperParameter OPT')\n",
    "    plt.xlabel(x_label)\n",
    "    plt.ylabel(\"MAPE\")\n",
    "    plt.plot(x,cr,c='green',label='Cross-Val')\n",
    "    plt.plot(x,mape,c='red',label='Test-MAPE')\n",
    "    plt.plot(min_x,min_y,'oy',markersize=12)\n",
    "    plt.annotate(\"(\"+str(round(min_x,2))+', '+str(round(min_y,3))+\")\",xy=(min_x,min_y))\n",
    "    plt.plot(min_cr_x,min_cr_y,'oy',markersize=12)\n",
    "    plt.annotate(\"(\"+str(round(min_cr_x,2))+', '+str(round(min_cr_y,3))+\")\",xy=(min_cr_x,min_cr_y))\n",
    "    plt.legend()\n",
    "    plt.savefig('pics_mape/'+x_label+'.png')\n",
    "    plt.show()\n"
   ],
   "metadata": {
    "collapsed": false,
    "pycharm": {
     "name": "#%%\n",
     "is_executing": false
    }
   }
  },
  {
   "cell_type": "code",
   "execution_count": 34,
   "outputs": [
    {
     "name": "stdout",
     "text": [
      "0.0\n"
     ],
     "output_type": "stream"
    },
    {
     "data": {
      "text/plain": "<Figure size 432x288 with 1 Axes>",
      "image/png": "[encoded data removed]"
     },
     "metadata": {},
     "output_type": "display_data"
    }
   ],
   "source": [
    "ccp_alpha = np.linspace(0,100,100)\n",
    "max_depth = np.linspace(1,20,20,dtype=int)\n",
    "min_samples_split = np.linspace(2,100,dtype=int)\n",
    "min_samples_leaf = np.linspace(1,100,dtype=int)\n",
    "max_features = ['auto', 'sqrt', 'log2']\n",
    "max_leaf_nodes = np.linspace(1000,5000,20,dtype=int)\n",
    "min_impurity_decrease = np.linspace(0,100,100)\n",
    "parameter = min_impurity_decrease\n",
    "parameter_name = 'min_impurity_decrease'\n",
    "cr_list = []\n",
    "mape_list = []\n",
    "for i in parameter:\n",
    "    tree_regressor = DecisionTreeRegressor(\n",
    "        min_impurity_decrease=i,\n",
    "        random_state=41)\n",
    "    cr,tr_R,ts_R,mae,mse,mape = generate_metrics(tree_regressor)\n",
    "    cr_list.append(np.average(cr))\n",
    "    mape_list.append(mape)\n",
    "print(parameter[mape_list.index(min(mape_list))])\n",
    "plot_mape(parameter,cr_list,mape_list,x_label=parameter_name)\n",
    "# ----------------------------- for single usage\n",
    "# cr,tr_R,ts_R,mae,mse = generate_metrics(tree_regressor)\n",
    "# print_metrics(cr,tr_R,ts_R,mae,mse)\n",
    "# -----------------------------"
   ],
   "metadata": {
    "collapsed": false,
    "pycharm": {
     "name": "#%%\n",
     "is_executing": false
    }
   }
  },
  {
   "cell_type": "markdown",
   "source": [
    "### Base Model (with no hyper parameters)\n",
    "Cross-Validation-Score:7087.853890255971 <br>\n",
    "MAE: 8194.332009158503 <br>\n",
    "MSE: 1310403929.046806 <br>\n",
    "Train R2: 0.9984405456569931 <br>\n",
    "Test R2: 0.6715758197834594 <br>\n",
    "#### BEST MAX DEPTH = 7 <br>\n",
    "#### BEST min_samples_split = 0.006 <br>\n",
    "#### BEST min_samples_leaf = 0.004\n",
    "#### BEST max_leaf_nodes = 49\n",
    "#### BEST min_impurity_decrease = 34.6\n",
    "#### BEST splitter = random\n",
    "#### BEST max_features = sqrt\n",
    "#### BEST ccp_alpha = 13434\n",
    "### Model After Exploratory Parameter Tuning\n",
    "Cross-Validation-Score:20940.862282131988 <br>\n",
    "MAE: 18995.667954555534 <br>\n",
    "MSE: 1501197758.7096622 <br>\n",
    "Train R2: 0.6320352403305758 <br>\n",
    "Test R2: 0.62375750536267 <br>\n",
    "### Final Model\n",
    "'ccp_alpha': 13434, <br>\n",
    "'max_depth': 7,<br>\n",
    "'max_features': 'auto',<br>\n",
    "'max_leaf_nodes': 48,<br>\n",
    "'min_impurity_decrease': 0,<br>\n",
    "'min_samples_leaf': 1,<br>\n",
    "'min_samples_split': 0.005,<br>\n",
    "'splitter': 'random'\n",
    "#### with two attrs\n",
    "Cross-Validation-Score:6993.424569760234 <br>\n",
    "MAE: 5942.955577700336 <br>\n",
    "MSE: 352654781.24830395 <br>\n",
    "Train R2: 0.9051753291112914 <br>\n",
    "Test R2: 0.9372154037633127 <br>\n",
    "#### with full attrs\n",
    "Cross-Validation-Score:7544.451049013391\n",
    "MAE: 7839.9115567135395\n",
    "MSE: 921507622.8550984\n",
    "Train R2: 0.9134290469474539\n",
    "Test R2: 0.8504812921161993\n"
   ],
   "metadata": {
    "collapsed": false,
    "pycharm": {
     "name": "#%% md\n"
    }
   }
  },
  {
   "cell_type": "markdown",
   "source": [
    "## Trying to find the best hyper paramteters"
   ],
   "metadata": {
    "collapsed": false,
    "pycharm": {
     "name": "#%% md\n"
    }
   }
  },
  {
   "cell_type": "code",
   "execution_count": 38,
   "outputs": [
    {
     "name": "stdout",
     "text": [
      "Fitting 3 folds for each of 1000 candidates, totalling 3000 fits\n",
      "done\n"
     ],
     "output_type": "stream"
    }
   ],
   "source": [
    "# Randomized Search\n",
    "splitter = ['best','random']\n",
    "max_depth=[None,5,6,7,8,10]\n",
    "min_samples_split=[2,0.006,0.007,0.005]\n",
    "min_samples_leaf = [1,0.004,0.003,0.002]\n",
    "max_features = ['auto','sqrt']\n",
    "max_leaf_nodes = [None,49,50,48]\n",
    "ccp_alpha = [0,13434,15000,10000]\n",
    "min_impurity_decrease = [0,34.6]\n",
    "random_state = [41]\n",
    "random_grid = {\n",
    "    'splitter':splitter,\n",
    "    'max_depth':max_depth,\n",
    "    'min_samples_split':min_samples_split,\n",
    "    'min_samples_leaf':min_samples_leaf,\n",
    "    'max_features':max_features,\n",
    "    'max_leaf_nodes':max_leaf_nodes,\n",
    "    'ccp_alpha':ccp_alpha,\n",
    "    'min_impurity_decrease':min_impurity_decrease,\n",
    "    'random_state':random_state\n",
    "    }\n",
    "tree_regressor = DecisionTreeRegressor(random_state=41)\n",
    "random_search = RandomizedSearchCV(\n",
    "    estimator=tree_regressor,\n",
    "    param_distributions=random_grid,\n",
    "    n_iter=1000,\n",
    "    cv=3,\n",
    "    random_state=42,\n",
    "    n_jobs=-1,\n",
    "    verbose=2,\n",
    "    scoring='neg_mean_absolute_error')\n",
    "random_search.fit(X_train,y_train)\n",
    "print(\"done\")"
   ],
   "metadata": {
    "collapsed": false,
    "pycharm": {
     "name": "#%%\n",
     "is_executing": false
    }
   }
  },
  {
   "cell_type": "code",
   "execution_count": 40,
   "outputs": [
    {
     "name": "stdout",
     "text": [
      "Fitting 3 folds for each of 72 candidates, totalling 216 fits\n",
      "done\n"
     ],
     "output_type": "stream"
    }
   ],
   "source": [
    "# Grid Search\n",
    "splitter = ['best']\n",
    "max_depth=[None,17,18,19]\n",
    "min_samples_split=[2,3,4]\n",
    "min_samples_leaf = [1,2,3]\n",
    "max_features = ['auto']\n",
    "max_leaf_nodes = [None,2052]\n",
    "ccp_alpha = [0]\n",
    "min_impurity_decrease = [0]\n",
    "random_state = [41]\n",
    "search_grid = {\n",
    "    'splitter':splitter,\n",
    "    'max_depth':max_depth,\n",
    "    'min_samples_split':min_samples_split,\n",
    "    'min_samples_leaf':min_samples_leaf,\n",
    "    'max_features':max_features,\n",
    "    'max_leaf_nodes':max_leaf_nodes,\n",
    "    'ccp_alpha':ccp_alpha,\n",
    "    'min_impurity_decrease':min_impurity_decrease,\n",
    "    'random_state':random_state\n",
    "}\n",
    "tree_regressor = DecisionTreeRegressor()\n",
    "search = GridSearchCV(\n",
    "    estimator=tree_regressor,\n",
    "    param_grid=search_grid,\n",
    "    cv=3,\n",
    "    n_jobs=-3,\n",
    "    verbose=2,\n",
    "    scoring='neg_mean_absolute_percentage_error')\n",
    "search.fit(X_train,y_train)\n",
    "print(\"done\")"
   ],
   "metadata": {
    "collapsed": false,
    "pycharm": {
     "name": "#%%\n",
     "is_executing": false
    }
   }
  },
  {
   "cell_type": "code",
   "execution_count": 43,
   "outputs": [
    {
     "data": {
      "text/plain": "{'ccp_alpha': 0,\n 'max_depth': 19,\n 'max_features': 'auto',\n 'max_leaf_nodes': None,\n 'min_impurity_decrease': 0,\n 'min_samples_leaf': 2,\n 'min_samples_split': 2,\n 'random_state': 41,\n 'splitter': 'best'}"
     },
     "metadata": {},
     "output_type": "execute_result",
     "execution_count": 43
    }
   ],
   "source": [
    "search.best_params_"
   ],
   "metadata": {
    "collapsed": false,
    "pycharm": {
     "name": "#%%\n",
     "is_executing": false
    }
   }
  },
  {
   "cell_type": "code",
   "execution_count": 45,
   "outputs": [
    {
     "data": {
      "text/plain": "0.560076163818866"
     },
     "metadata": {},
     "output_type": "execute_result",
     "execution_count": 45
    }
   ],
   "source": [
    "y_pred = search.best_estimator_.predict(X_test)\n",
    "MAPE(y_pred,y_test)"
   ],
   "metadata": {
    "collapsed": false,
    "pycharm": {
     "name": "#%%\n",
     "is_executing": false
    }
   }
  },
  {
   "cell_type": "markdown",
   "source": [
    "#FINAL MODEL"
   ],
   "metadata": {
    "collapsed": false,
    "pycharm": {
     "name": "#%% md\n"
    }
   }
  },
  {
   "cell_type": "code",
   "execution_count": 46,
   "outputs": [
    {
     "name": "stdout",
     "text": [
      "6020.316669812966\n516692090.33566046\n1.005864773554262\n"
     ],
     "output_type": "stream"
    }
   ],
   "source": [
    "mae = []\n",
    "mape = []\n",
    "mse = []\n",
    "for i in range(1,20):\n",
    "    print('****'+str(i)+'****')\n",
    "    X = df.drop('Actual Cost',axis=1)\n",
    "    y = df['Actual Cost']\n",
    "    X_train,X_test,y_train,y_test = train_test_split(\n",
    "        X,y,test_size=0.2)\n",
    "    tree_regressor = search.best_estimator_\n",
    "    tree_regressor.fit(X_train,y_train)\n",
    "    y_pred = tree_regressor.predict(X_test)\n",
    "    mae.append(MAE(y_test,y_pred))\n",
    "    mse.append(MSE(y_test,y_pred))\n",
    "    mape.append(MAPE(y_test,y_pred))\n",
    "    clear_output(wait=True)\n",
    "print(np.average(mae))\n",
    "print(np.average(mse))\n",
    "print(np.average(mape))\n"
   ],
   "metadata": {
    "collapsed": false,
    "pycharm": {
     "name": "#%%\n",
     "is_executing": false
    }
   }
  },
  {
   "cell_type": "markdown",
   "source": [
    "the mean mae after running for 100 times: 6676.626301399859"
   ],
   "metadata": {
    "collapsed": false,
    "pycharm": {
     "name": "#%% md\n"
    }
   }
  },
  {
   "cell_type": "code",
   "execution_count": 47,
   "outputs": [
    {
     "name": "stdout",
     "text": [
      "MAE MSP:\n3864.3625628316436\nMSE MSP:\n350210683.9717696\nMAPE MSP: \n0.741589091679601\n"
     ],
     "output_type": "stream"
    }
   ],
   "source": [
    "MAE_MSP = MAE(df['Actual Cost'],df['Total Cost'])\n",
    "print(\"MAE MSP:\")\n",
    "print(MAE_MSP)\n",
    "MSE_MSP = MSE(df['Actual Cost'],df['Total Cost'])\n",
    "print(\"MSE MSP:\")\n",
    "print(MSE_MSP)\n",
    "print(\"MAPE MSP: \")\n",
    "print(MAPE(df['Actual Cost'],df['Total Cost']))"
   ],
   "metadata": {
    "collapsed": false,
    "pycharm": {
     "name": "#%%\n",
     "is_executing": false
    }
   }
  },
  {
   "cell_type": "code",
   "execution_count": 29,
   "outputs": [],
   "source": [
    "# Saving Tree Graph\n",
    "dot_data = tree.export_graphviz(tree_regressor, out_file=None, \n",
    "                                feature_names=['Duration','Total Cost'],class_names=['Acutal Cost'])\n",
    "graph = pydotplus.graph_from_dot_data(dot_data)  \n",
    "graph.write_svg(\"tree.svg\")"
   ],
   "metadata": {
    "collapsed": false,
    "pycharm": {
     "name": "#%%\n",
     "is_executing": false
    }
   }
  },
  {
   "cell_type": "code",
   "execution_count": 30,
   "outputs": [],
   "source": [
    "# Saving model\n",
    "pkl_filename = \"tree.pkl\"\n",
    "with open(pkl_filename, 'wb') as file:\n",
    "    pickle.dump(tree_regressor, file)"
   ],
   "metadata": {
    "collapsed": false,
    "pycharm": {
     "name": "#%%\n",
     "is_executing": false
    }
   }
  },
  {
   "cell_type": "code",
   "execution_count": 9,
   "outputs": [],
   "source": [
    "pkl_filename = \"tree.pkl\"\n",
    "with open(pkl_filename,'rb') as file:\n",
    "    model = pickle.load(file)\n",
    "print(\"MODEL IMPORTED!\")\n"
   ],
   "metadata": {
    "collapsed": false,
    "pycharm": {
     "name": "#%%\n",
     "is_executing": false
    }
   }
  }
 ],
 "metadata": {
  "language_info": {
   "codemirror_mode": {
    "name": "ipython",
    "version": 2
   },
   "file_extension": ".py",
   "mimetype": "text/x-python",
   "name": "python",
   "nbconvert_exporter": "python",
   "pygments_lexer": "ipython2",
   "version": "2.7.6"
  },
  "kernelspec": {
   "name": "python3",
   "language": "python",
   "display_name": "Python 3"
  },
  "pycharm": {
   "stem_cell": {
    "cell_type": "raw",
    "source": [],
    "metadata": {
     "collapsed": false
    }
   }
  }
 },
 "nbformat": 4,
 "nbformat_minor": 0
}