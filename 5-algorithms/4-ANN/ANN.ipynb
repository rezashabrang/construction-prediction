{
 "cells": [
  {
   "cell_type": "code",
   "execution_count": 2,
   "metadata": {
    "collapsed": true,
    "pycharm": {
     "is_executing": false
    }
   },
   "outputs": [],
   "source": [
    "import pandas as pd\n",
    "import numpy as np\n",
    "from sklearn.tree import DecisionTreeRegressor\n",
    "from sklearn import tree\n",
    "from sklearn.model_selection import train_test_split\n",
    "from sklearn.metrics import mean_squared_error as MSE\n",
    "from sklearn.metrics import mean_absolute_error as MAE\n",
    "from sklearn.metrics import mean_absolute_percentage_error as MAPE\n",
    "import matplotlib.pyplot as plt\n",
    "import pydotplus\n",
    "import pickle\n",
    "from sklearn.model_selection import cross_val_score\n",
    "from sklearn.model_selection import RandomizedSearchCV\n",
    "from sklearn.model_selection import GridSearchCV\n",
    "from sklearn.preprocessing import StandardScaler, MinMaxScaler\n",
    "from tensorflow.keras.layers import Dropout, Dense\n",
    "from tensorflow.keras.optimizers import Adam, SGD, RMSprop\n",
    "from tensorflow.keras.utils import to_categorical\n",
    "from tensorflow.keras.models import Sequential\n",
    "import os\n",
    "from IPython.display import clear_output\n",
    "import matplotlib.style as style\n",
    "from tensorflow import random\n",
    "from numpy.random import seed\n",
    "seed(5)\n",
    "random.set_seed(5)\n",
    "style.use('ggplot')"
   ]
  },
  {
   "cell_type": "code",
   "execution_count": 3,
   "outputs": [
    {
     "data": {
      "text/plain": "   Duration  Resource Cost  Fixed Cost  Cost/Hour  Variable Cost  Total Cost  \\\n0       3.0         2400.0         0.0        0.0            0.0      2400.0   \n1       1.0          800.0         0.0        0.0            0.0       800.0   \n2       1.0          440.0         0.0        0.0            0.0       440.0   \n\n   Actual Cost  \n0       2400.0  \n1        800.0  \n2        440.0  ",
      "text/html": "<div>\n<style scoped>\n    .dataframe tbody tr th:only-of-type {\n        vertical-align: middle;\n    }\n\n    .dataframe tbody tr th {\n        vertical-align: top;\n    }\n\n    .dataframe thead th {\n        text-align: right;\n    }\n</style>\n<table border=\"1\" class=\"dataframe\">\n  <thead>\n    <tr style=\"text-align: right;\">\n      <th></th>\n      <th>Duration</th>\n      <th>Resource Cost</th>\n      <th>Fixed Cost</th>\n      <th>Cost/Hour</th>\n      <th>Variable Cost</th>\n      <th>Total Cost</th>\n      <th>Actual Cost</th>\n    </tr>\n  </thead>\n  <tbody>\n    <tr>\n      <th>0</th>\n      <td>3.0</td>\n      <td>2400.0</td>\n      <td>0.0</td>\n      <td>0.0</td>\n      <td>0.0</td>\n      <td>2400.0</td>\n      <td>2400.0</td>\n    </tr>\n    <tr>\n      <th>1</th>\n      <td>1.0</td>\n      <td>800.0</td>\n      <td>0.0</td>\n      <td>0.0</td>\n      <td>0.0</td>\n      <td>800.0</td>\n      <td>800.0</td>\n    </tr>\n    <tr>\n      <th>2</th>\n      <td>1.0</td>\n      <td>440.0</td>\n      <td>0.0</td>\n      <td>0.0</td>\n      <td>0.0</td>\n      <td>440.0</td>\n      <td>440.0</td>\n    </tr>\n  </tbody>\n</table>\n</div>"
     },
     "metadata": {},
     "output_type": "execute_result",
     "execution_count": 3
    }
   ],
   "source": [
    "df = pd.read_excel('../final_data.xlsx')\n",
    "\n",
    "df=df.iloc[:,1:]\n",
    "df_org = df.copy()\n",
    "df.head(3)"
   ],
   "metadata": {
    "collapsed": false,
    "pycharm": {
     "name": "#%%\n",
     "is_executing": false
    }
   }
  },
  {
   "cell_type": "code",
   "execution_count": 52,
   "outputs": [
    {
     "data": {
      "text/plain": "   Duration  Resource Cost  Fixed Cost  Cost/Hour  Variable Cost  Total Cost  \\\n0 -0.517100       2.084440   -0.285569  -0.350953       -0.25313   -0.338709   \n1 -0.672810       0.489769   -0.285569  -0.350953       -0.25313   -0.364778   \n2 -0.672810       0.130968   -0.285569  -0.350953       -0.25313   -0.370643   \n3 -0.740932      -0.307566   -0.285551  -0.350953       -0.25313   -0.377796   \n4 -0.711737       0.059208   -0.111735  -0.350953       -0.25313   -0.216745   \n\n   Actual Cost  \n0    -0.340865  \n1    -0.365680  \n2    -0.371264  \n3    -0.378073  \n4    -0.224765  ",
      "text/html": "<div>\n<style scoped>\n    .dataframe tbody tr th:only-of-type {\n        vertical-align: middle;\n    }\n\n    .dataframe tbody tr th {\n        vertical-align: top;\n    }\n\n    .dataframe thead th {\n        text-align: right;\n    }\n</style>\n<table border=\"1\" class=\"dataframe\">\n  <thead>\n    <tr style=\"text-align: right;\">\n      <th></th>\n      <th>Duration</th>\n      <th>Resource Cost</th>\n      <th>Fixed Cost</th>\n      <th>Cost/Hour</th>\n      <th>Variable Cost</th>\n      <th>Total Cost</th>\n      <th>Actual Cost</th>\n    </tr>\n  </thead>\n  <tbody>\n    <tr>\n      <th>0</th>\n      <td>-0.517100</td>\n      <td>2.084440</td>\n      <td>-0.285569</td>\n      <td>-0.350953</td>\n      <td>-0.25313</td>\n      <td>-0.338709</td>\n      <td>-0.340865</td>\n    </tr>\n    <tr>\n      <th>1</th>\n      <td>-0.672810</td>\n      <td>0.489769</td>\n      <td>-0.285569</td>\n      <td>-0.350953</td>\n      <td>-0.25313</td>\n      <td>-0.364778</td>\n      <td>-0.365680</td>\n    </tr>\n    <tr>\n      <th>2</th>\n      <td>-0.672810</td>\n      <td>0.130968</td>\n      <td>-0.285569</td>\n      <td>-0.350953</td>\n      <td>-0.25313</td>\n      <td>-0.370643</td>\n      <td>-0.371264</td>\n    </tr>\n    <tr>\n      <th>3</th>\n      <td>-0.740932</td>\n      <td>-0.307566</td>\n      <td>-0.285551</td>\n      <td>-0.350953</td>\n      <td>-0.25313</td>\n      <td>-0.377796</td>\n      <td>-0.378073</td>\n    </tr>\n    <tr>\n      <th>4</th>\n      <td>-0.711737</td>\n      <td>0.059208</td>\n      <td>-0.111735</td>\n      <td>-0.350953</td>\n      <td>-0.25313</td>\n      <td>-0.216745</td>\n      <td>-0.224765</td>\n    </tr>\n  </tbody>\n</table>\n</div>"
     },
     "metadata": {},
     "output_type": "execute_result",
     "execution_count": 52
    }
   ],
   "source": [
    "#Standardization or Normalization\n",
    "cols =['Duration', 'Resource Cost', 'Fixed Cost', 'Cost/Hour', 'Variable Cost','Total Cost']\n",
    "for column in cols:\n",
    "    df[column] = StandardScaler().fit_transform(np.array(df[column]).reshape(-1,1))\n",
    "y_standardization = StandardScaler()\n",
    "df['Actual Cost'] = y_standardization.fit_transform(np.array(df['Actual Cost']).reshape(-1,1))\n",
    "df.head(5)"
   ],
   "metadata": {
    "collapsed": false,
    "pycharm": {
     "name": "#%%\n",
     "is_executing": false
    }
   }
  },
  {
   "cell_type": "code",
   "execution_count": 133,
   "outputs": [],
   "source": [
    "y_standardization.inverse_transform(df['Actual Cost'])"
   ],
   "metadata": {
    "collapsed": false,
    "pycharm": {
     "name": "#%%\n",
     "is_executing": false
    }
   }
  },
  {
   "cell_type": "code",
   "execution_count": 122,
   "outputs": [],
   "source": [
    "df.columns\n",
    "['Duration', 'Resource Cost', 'Fixed Cost', 'Cost/Hour', 'Variable Cost','Total Cost', 'Actual Cost']"
   ],
   "metadata": {
    "collapsed": false,
    "pycharm": {
     "name": "#%%\n",
     "is_executing": false
    }
   }
  },
  {
   "cell_type": "code",
   "execution_count": 4,
   "outputs": [],
   "source": [
    "# setting x and y\n",
    "#['Duration', 'Resource Cost', 'Fixed Cost', 'Cost/Hour', 'Variable Cost','Total Cost', 'Actual Cost']\n",
    "\n",
    "X = df.drop(['Actual Cost'],axis=1)\n",
    "# X = df[['Duration','Total Cost']]\n",
    "y = df['Actual Cost']\n",
    "# preparing test and train\n",
    "X_train,X_val,y_train,y_val = train_test_split(\n",
    "    X,y,test_size=0.2,random_state=41\n",
    ")"
   ],
   "metadata": {
    "collapsed": false,
    "pycharm": {
     "name": "#%%\n",
     "is_executing": false
    }
   }
  },
  {
   "cell_type": "code",
   "execution_count": 5,
   "outputs": [],
   "source": [
    "def plot_metrics(epochs,loss,mse,val_loss,val_mse,title):\n",
    "    x = range(1,epochs+1)\n",
    "    fig = plt.figure()\n",
    "    plt.title('ANN Optimization')\n",
    "    plt.plot(x,loss,c='green',label='train')\n",
    "    plt.plot(x,val_loss,c='red',label='validation')\n",
    "    plt.legend()\n",
    "    plt.savefig('pics_mape/'+title+'-mape.png')\n",
    "    plt.show()"
   ],
   "metadata": {
    "collapsed": false,
    "pycharm": {
     "name": "#%%\n",
     "is_executing": false
    }
   }
  },
  {
   "cell_type": "code",
   "execution_count": 26,
   "outputs": [
    {
     "data": {
      "text/plain": "<Figure size 432x288 with 1 Axes>",
      "image/png": "[encoded data removed]"
     },
     "metadata": {},
     "output_type": "display_data"
    },
    {
     "name": "stdout",
     "text": [
      "Validation MAE:\n43.599117279052734\nTEST MAE\n5855.932617634554\nMAPE:\n0.4359911184609065\n"
     ],
     "output_type": "stream"
    }
   ],
   "source": [
    "# lrs=np.linspace(0.0002,0.0005,20)\n",
    "lr = 0.001\n",
    "# counter = 1\n",
    "epochs = 15\n",
    "# maes_test = []\n",
    "# maes_val = []\n",
    "# for lr in lrs:\n",
    "# print(\"*****\"+str(counter)+'*****')\n",
    "# counter+=1\n",
    "model = Sequential()\n",
    "model.add(Dense(6, input_dim=6,  activation='linear'))\n",
    "model.add(Dense(6,activation='linear'))\n",
    "model.add(Dense(1,activation='linear'))\n",
    "model.compile(loss='mean_absolute_percentage_error', optimizer=Adam(lr=lr),metrics=['mse'])\n",
    "history = model.fit(X_train,y_train,epochs=epochs,validation_data=(X_val,y_val))\n",
    "ml = history.history\n",
    "clear_output(wait=True)\n",
    "plot_metrics(epochs,ml['loss'],ml['mse'],ml['val_loss'],ml['val_mse'],title='1-hidden-layers-100دثعقخدس')\n",
    "y_pred=model.predict(X_val)\n",
    "# y_pred = y_standardization.inverse_transform(y_pred)\n",
    "# y_val = y_standardization.inverse_transform(y_val)\n",
    "# maes_test.append(MAE(y_test,y_pred))\n",
    "# maes_val.append(ml['val_loss'][-1])\n",
    "print(\"Validation MAE:\")\n",
    "print(ml['val_loss'][-1])\n",
    "print(\"TEST MAE\")\n",
    "print(MAE(y_val,y_pred))\n",
    "print(\"MAPE:\")\n",
    "print(MAPE(y_val,y_pred))\n",
    "# fig = plt.figure()\n",
    "# plt.plot(lrs,maes_val,c='green',label='mae_val')\n",
    "# plt.plot(lrs,maes_test,c='red',label='mae_test')\n",
    "# plt.legend()\n",
    "# plt.show()"
   ],
   "metadata": {
    "collapsed": false,
    "pycharm": {
     "name": "#%%\n",
     "is_executing": false
    }
   }
  },
  {
   "cell_type": "code",
   "execution_count": 79,
   "outputs": [],
   "source": [
    "print(lrs[maes_test.index(min(maes_test))])"
   ],
   "metadata": {
    "collapsed": false,
    "pycharm": {
     "name": "#%%\n",
     "is_executing": false
    }
   }
  },
  {
   "cell_type": "markdown",
   "source": [
    "### Base Model (with no hyper parameters)\n",
    "epochs = 5\n",
    "hidden_layers = 1\n",
    "Neurons = 6,6\n",
    "Activation = 'linear'\n",
    "MAE Val = 3120.5185546875\n",
    "MAE test = 3410.709625346423\n",
    "#### with two attrs\n",
    "#### with all attrs"
   ],
   "metadata": {
    "collapsed": false
   }
  },
  {
   "cell_type": "markdown",
   "source": [
    "# TESTING"
   ],
   "metadata": {
    "collapsed": false,
    "pycharm": {
     "name": "#%% md\n"
    }
   }
  },
  {
   "cell_type": "code",
   "execution_count": 16,
   "outputs": [
    {
     "name": "stdout",
     "text": [
      "6290.332374945809",
      "\n562706429.051615\n0.5793672636753072\n"
     ],
     "output_type": "stream"
    }
   ],
   "source": [
    "mae = []\n",
    "mape = []\n",
    "mse = []\n",
    "counter = 1\n",
    "lr = 0.001\n",
    "# beta_1_list = np.linspace(0,1,10,endpoint=False)\n",
    "# beta_2_list = np.linspace(0,1,10,endpoint=False)\n",
    "# epsilon_list = np.linspace(0,1,5,endpoint=False)\n",
    "# lrs = np.linspace(0.0009,0.001,100)\n",
    "# for epsilon in epsilon_list:\n",
    "# print('****'+str(counter)+'****');counter+=1\n",
    "for i in range(20):\n",
    "    print('****'+str(counter)+'****');counter+=1\n",
    "    X = df.drop(['Actual Cost'],axis=1)\n",
    "    y = df['Actual Cost']\n",
    "    X_train,X_test,y_train,y_test = train_test_split(\n",
    "        X,y,test_size=0.2) #random_state=41\n",
    "    model = Sequential()\n",
    "    model.add(Dense(6, input_dim=6, activation='linear'))\n",
    "    model.add(Dense(6,activation='linear'))\n",
    "    model.add(Dense(1,activation='linear'))\n",
    "    model.compile(loss='mean_absolute_percentage_error', optimizer='Adam',metrics=['mse'])\n",
    "    history = model.fit(X_train,y_train,epochs=15)\n",
    "    clear_output(wait=True)\n",
    "    y_pred = model.predict(X_test)\n",
    "    mae.append(MAE(y_test,y_pred))\n",
    "    mse.append(MSE(y_test,y_pred))\n",
    "    mape.append(MAPE(y_test,y_pred))\n",
    "print(np.average(mae))\n",
    "print(np.average(mse))\n",
    "print(np.average(mape))\n",
    "# mae.append(MAE(y_test,y_pred))\n",
    "# plt.plot(epsilon_list,mae)\n",
    "# plt.show()"
   ],
   "metadata": {
    "collapsed": false,
    "pycharm": {
     "name": "#%%\n",
     "is_executing": false
    }
   }
  },
  {
   "cell_type": "markdown",
   "source": [
    "# FINAL MODEL"
   ],
   "metadata": {
    "collapsed": false,
    "pycharm": {
     "name": "#%% md\n"
    }
   }
  },
  {
   "cell_type": "code",
   "execution_count": null,
   "outputs": [
    {
     "name": "stdout",
     "text": [
      "\b\b\b\b\b\b\b\b\b\b\b\b\b\b\b\b\b\b\b\b\b\b\b\b\b\b\b\b\b\b\b\b\b\b\b\b\b\b\b\b\b\b\b\b\b\b\b\b\b\b\b\b\b\b\b\b\b\b\b\b\b\b\b\b\b\b\b\b\b\b\b\b\b\b\b\b\b\b\b\b\b\b\b\b\b\b\b\b",
      "\r43/80 [===============>..............] - ETA: 0s - loss: 94.2336 - mse: 2011713792.0000 "
     ],
     "output_type": "stream"
    }
   ],
   "source": [
    "mae = []\n",
    "for i in range(1,100):\n",
    "    print('****'+str(i)+'****')\n",
    "    X = df.drop('Actual Cost',axis=1)\n",
    "    # X = df[['Duration','Total Cost']]\n",
    "    y = df['Actual Cost']\n",
    "    # preparing test and train\n",
    "    X_train,X_test,y_train,y_test = train_test_split(\n",
    "        X,y,test_size=0.2,random_state=i)\n",
    "    model = Sequential()\n",
    "    model.add(Dense(6, input_dim=6,  activation='linear'))\n",
    "    model.add(Dense(6,activation='linear'))\n",
    "    model.add(Dense(1,activation='linear'))\n",
    "    model.compile(loss='mean_absolute_percentage_error', optimizer=Adam(lr=0.0001),metrics=['mse'])\n",
    "    history = model.fit(X_train,y_train,epochs=30)\n",
    "    y_pred = model.predict(X_test)\n",
    "    # print('MAE:')\n",
    "    # print(MAE(y_test,y_pred))\n",
    "    # print('MSE:')\n",
    "    # print(MSE(y_test,y_pred))\n",
    "    mae.append(MAE(y_test,y_pred))\n",
    "    clear_output(wait=True)\n",
    "print(np.average(mae))"
   ],
   "metadata": {
    "collapsed": false,
    "pycharm": {
     "name": "#%%\n",
     "is_executing": true
    }
   }
  },
  {
   "cell_type": "markdown",
   "source": [
    "the mean mae after running for 100 times: 4664.15471209796"
   ],
   "metadata": {
    "collapsed": false,
    "pycharm": {
     "name": "#%% md\n"
    }
   }
  },
  {
   "cell_type": "code",
   "execution_count": 8,
   "outputs": [
    {
     "name": "stdout",
     "text": [
      "MAE MSP:\n4371.532003104657\nMSE MSP:\n536755019.1048717\n"
     ],
     "output_type": "stream"
    }
   ],
   "source": [
    "MAE_MSP = MAE(df['Actual Cost'],df['Total Cost'])\n",
    "print(\"MAE MSP:\")\n",
    "print(MAE_MSP)\n",
    "MSE_MSP = MSE(df['Actual Cost'],df['Total Cost'])\n",
    "print(\"MSE MSP:\")\n",
    "print(MSE_MSP)"
   ],
   "metadata": {
    "collapsed": false,
    "pycharm": {
     "name": "#%%\n",
     "is_executing": false
    }
   }
  },
  {
   "cell_type": "code",
   "execution_count": 30,
   "outputs": [],
   "source": [
    "# Saving model\n",
    "pkl_filename = \"tree.pkl\"\n",
    "with open(pkl_filename, 'wb') as file:\n",
    "    pickle.dump(tree_regressor, file)"
   ],
   "metadata": {
    "collapsed": false,
    "pycharm": {
     "name": "#%%\n",
     "is_executing": false
    }
   }
  },
  {
   "cell_type": "code",
   "execution_count": 9,
   "outputs": [],
   "source": [
    "pkl_filename = \"tree.pkl\"\n",
    "with open(pkl_filename,'rb') as file:\n",
    "    model = pickle.load(file)\n",
    "print(\"MODEL IMPORTED!\")\n"
   ],
   "metadata": {
    "collapsed": false,
    "pycharm": {
     "name": "#%%\n",
     "is_executing": false
    }
   }
  }
 ],
 "metadata": {
  "language_info": {
   "codemirror_mode": {
    "name": "ipython",
    "version": 2
   },
   "file_extension": ".py",
   "mimetype": "text/x-python",
   "name": "python",
   "nbconvert_exporter": "python",
   "pygments_lexer": "ipython2",
   "version": "2.7.6"
  },
  "kernelspec": {
   "name": "python3",
   "language": "python",
   "display_name": "Python 3"
  },
  "pycharm": {
   "stem_cell": {
    "cell_type": "raw",
    "source": [],
    "metadata": {
     "collapsed": false
    }
   }
  }
 },
 "nbformat": 4,
 "nbformat_minor": 0
}