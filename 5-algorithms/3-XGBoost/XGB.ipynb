{
 "cells": [
  {
   "cell_type": "code",
   "execution_count": 10,
   "metadata": {
    "collapsed": true,
    "pycharm": {
     "is_executing": false
    }
   },
   "outputs": [],
   "source": [
    "import pandas as pd\n",
    "import numpy as np\n",
    "from sklearn.tree import DecisionTreeRegressor\n",
    "from sklearn import tree\n",
    "from sklearn.model_selection import train_test_split\n",
    "from sklearn.metrics import mean_squared_error as MSE\n",
    "from sklearn.metrics import mean_absolute_error as MAE\n",
    "from sklearn.metrics import mean_absolute_percentage_error as MAPE\n",
    "import matplotlib.pyplot as plt\n",
    "import pydotplus\n",
    "import pickle\n",
    "from sklearn.model_selection import cross_val_score\n",
    "from sklearn.model_selection import RandomizedSearchCV\n",
    "from sklearn.model_selection import GridSearchCV\n",
    "from sklearn.preprocessing import StandardScaler, MinMaxScaler\n",
    "from xgboost import XGBRegressor, XGBRFRegressor\n",
    "from IPython.display import clear_output\n",
    "from matplotlib import style\n",
    "style.use('ggplot')"
   ]
  },
  {
   "cell_type": "code",
   "execution_count": 2,
   "outputs": [
    {
     "data": {
      "text/plain": "   Duration  Resource Cost  Fixed Cost  Cost/Hour  Variable Cost  Total Cost  \\\n0       3.0         2400.0         0.0        0.0            0.0      2400.0   \n1       1.0          800.0         0.0        0.0            0.0       800.0   \n2       1.0          440.0         0.0        0.0            0.0       440.0   \n\n   Actual Cost  \n0       2400.0  \n1        800.0  \n2        440.0  ",
      "text/html": "<div>\n<style scoped>\n    .dataframe tbody tr th:only-of-type {\n        vertical-align: middle;\n    }\n\n    .dataframe tbody tr th {\n        vertical-align: top;\n    }\n\n    .dataframe thead th {\n        text-align: right;\n    }\n</style>\n<table border=\"1\" class=\"dataframe\">\n  <thead>\n    <tr style=\"text-align: right;\">\n      <th></th>\n      <th>Duration</th>\n      <th>Resource Cost</th>\n      <th>Fixed Cost</th>\n      <th>Cost/Hour</th>\n      <th>Variable Cost</th>\n      <th>Total Cost</th>\n      <th>Actual Cost</th>\n    </tr>\n  </thead>\n  <tbody>\n    <tr>\n      <th>0</th>\n      <td>3.0</td>\n      <td>2400.0</td>\n      <td>0.0</td>\n      <td>0.0</td>\n      <td>0.0</td>\n      <td>2400.0</td>\n      <td>2400.0</td>\n    </tr>\n    <tr>\n      <th>1</th>\n      <td>1.0</td>\n      <td>800.0</td>\n      <td>0.0</td>\n      <td>0.0</td>\n      <td>0.0</td>\n      <td>800.0</td>\n      <td>800.0</td>\n    </tr>\n    <tr>\n      <th>2</th>\n      <td>1.0</td>\n      <td>440.0</td>\n      <td>0.0</td>\n      <td>0.0</td>\n      <td>0.0</td>\n      <td>440.0</td>\n      <td>440.0</td>\n    </tr>\n  </tbody>\n</table>\n</div>"
     },
     "metadata": {},
     "output_type": "execute_result",
     "execution_count": 2
    }
   ],
   "source": [
    "df = pd.read_excel('../final_data.xlsx')\n",
    "\n",
    "df=df.iloc[:,1:]\n",
    "df_org = df.copy()\n",
    "df.head(3)"
   ],
   "metadata": {
    "collapsed": false,
    "pycharm": {
     "name": "#%%\n",
     "is_executing": false
    }
   }
  },
  {
   "cell_type": "code",
   "execution_count": 50,
   "outputs": [],
   "source": [
    "#Standardization or Normalization\n",
    "for column in df.columns:\n",
    "    df[column] = MinMaxScaler().fit_transform(np.array(df[column]).reshape(-1,1))\n",
    "df.head(10)"
   ],
   "metadata": {
    "collapsed": false,
    "pycharm": {
     "name": "#%%\n",
     "is_executing": false
    }
   }
  },
  {
   "cell_type": "code",
   "execution_count": 3,
   "outputs": [],
   "source": [
    "# setting x and y\n",
    "X = df.drop('Actual Cost',axis=1)\n",
    "# X = df[['Duration','Total Cost']]\n",
    "y = df['Actual Cost']\n",
    "# preparing test and train\n",
    "X_train,X_test,y_train,y_test = train_test_split(\n",
    "    X,y,test_size=0.2,random_state=41\n",
    ")"
   ],
   "metadata": {
    "collapsed": false,
    "pycharm": {
     "name": "#%%\n",
     "is_executing": false
    }
   }
  },
  {
   "cell_type": "code",
   "execution_count": 16,
   "outputs": [],
   "source": [
    "def generate_metrics(model):\n",
    "    cr_score = -cross_val_score(model,X_train,y_train,scoring='neg_mean_absolute_percentage_error',cv=3)\n",
    "    model.fit(X_train,y_train)\n",
    "    train_r2 = model.score(X_train,y_train)\n",
    "    test_r2 = model.score(X_test,y_test)\n",
    "    y_pred = model.predict(X_test)\n",
    "    error_MAE = MAE(y_pred,y_test)\n",
    "    error_MSE = MSE(y_test,y_pred)\n",
    "    error_MAPE = MAPE(y_test,y_pred)\n",
    "    return cr_score,train_r2,test_r2,error_MAE,error_MSE,error_MAPE\n",
    "def print_metrics(cr,tr_R,ts_R,mae,mse,mape):\n",
    "    print(\"Cross-Validation-Score:\"+str(np.average(cr)))\n",
    "    print(\"MAE: \"+str(mae))\n",
    "    print('MSE: '+str(mse))\n",
    "    print(\"Train R2: \"+ str(tr_R))\n",
    "    print(\"Test R2: \"+ str(ts_R))\n",
    "    print(\"MAPE: \"+ str(mape))\n",
    "def plot_mape(x,cr,mape,x_label):\n",
    "    min_x = x[mape.index(min(mape))]\n",
    "    min_y = min(mape)\n",
    "    min_cr_x = x[cr.index(min(cr))]\n",
    "    min_cr_y = min(cr)\n",
    "    fig = plt.figure()\n",
    "    plt.title('XGBoost HyperParameter OPT')\n",
    "    plt.xlabel(x_label)\n",
    "    plt.ylabel(\"error\")\n",
    "    plt.plot(x,cr,c='green',label='Cross-Val')\n",
    "    plt.plot(x,mape,c='red',label='Test-MAPE')\n",
    "    plt.plot(min_x,min_y,'oy',markersize=12)\n",
    "    plt.annotate(\"(\"+str(round(min_x,2))+', '+str(round(min_y,3))+\")\",xy=(min_x,min_y))\n",
    "    # plt.plot(min_cr_x,min_cr_y,'oy',markersize=12)\n",
    "    # plt.annotate(\"(\"+str(round(min_cr_x,2))+', '+str(round(min_cr_y,3))+\")\",xy=(min_cr_x,min_cr_y))\n",
    "    plt.legend()\n",
    "    plt.savefig('pics_mape/'+x_label+'.png')\n",
    "    plt.show()"
   ],
   "metadata": {
    "collapsed": false,
    "pycharm": {
     "name": "#%%\n",
     "is_executing": false
    }
   }
  },
  {
   "cell_type": "code",
   "execution_count": 33,
   "outputs": [
    {
     "name": "stdout",
     "text": [
      "****** 20/20 ******\n0.0\n287.81103403433195\n"
     ],
     "output_type": "stream"
    },
    {
     "data": {
      "text/plain": "<Figure size 432x288 with 1 Axes>",
      "image/png": "[encoded data removed]"
     },
     "metadata": {},
     "output_type": "display_data"
    }
   ],
   "source": [
    "n_estimators = np.linspace(2,100,20,endpoint=True,dtype=int)\n",
    "max_depth = np.linspace(10,30,10,endpoint=True,dtype=int)\n",
    "learning_rate = np.linspace(0,1,20)\n",
    "reg_alpha = np.linspace(0,6.0e7,20)\n",
    "colsample_bytree = np.linspace(0,1,20)\n",
    "colsample_bylevel = np.linspace(0,1,20)\n",
    "colsample_bynode = np.linspace(0,1,20)\n",
    "reg_lambda = np.linspace(1.0e12,1.0e15,10)\n",
    "scale_pos_weight = np.linspace(1.0e4,1.0e5,20)\n",
    "max_delta_step = np.linspace(1.0e-1,0.2,20)\n",
    "min_child_weight = np.linspace(0,1,10)\n",
    "booster = ['gbtree','gblinear','dart']\n",
    "# gamma = np.linspace(0,1000000,20)\n",
    "# subsample = np.linspace(0,1,20)\n",
    "parameter = n_estimators\n",
    "name_parameter = 'n_estimators'\n",
    "couunter = 1\n",
    "cr_list = []\n",
    "mape_list = []\n",
    "for i in parameter:\n",
    "# --------------------------\n",
    "    xg_reg = XGBRFRegressor(\n",
    "        n_estimators=i,\n",
    "        random_state=41,\n",
    "        n_jobs=-2\n",
    "    )\n",
    "# -------------------------- For Tuning\n",
    "    cr,tr_R,ts_R,mae,mse,mape = generate_metrics(xg_reg)\n",
    "    cr_list.append(np.average(cr))\n",
    "    mape_list.append(mape)\n",
    "    if couunter % 10 == 0:\n",
    "        clear_output(wait=True)\n",
    "    print(\"****** \" + str(couunter)+'/'+str(len(parameter))+\" ******\")\n",
    "    couunter+=1\n",
    "print(parameter[mape_list.index(min(mape_list))])\n",
    "print(min(mape_list))\n",
    "plot_mape(parameter,cr_list,mape_list,x_label=name_parameter)\n",
    "# print_metrics(cr,tr_R,ts_R,mae,mse,mape)"
   ],
   "metadata": {
    "collapsed": false,
    "pycharm": {
     "name": "#%%\n",
     "is_executing": false
    }
   }
  },
  {
   "cell_type": "markdown",
   "source": [
    "### Base Model (with no hyper parameters)\n",
    "#### with two attrs\n",
    "Cross-Validation-Score:6565.782321586107 <br>\n",
    "MAE: 7377.721373220953 <br>\n",
    "MSE: 1061464136.2264417 <br>\n",
    "Train R2: 0.9970477632396384 <br>\n",
    "Test R2: 0.8297132915736618 <br>\n",
    "#### with all attrs\n",
    "Cross-Validation-Score:7428.833721072005\n",
    "MAE: 5071.731755954239\n",
    "MSE: 569814709.2298542\n",
    "Train R2: 0.9974438828582196\n",
    "Test R2: 0.8346174026152794\n",
    "#### BEST n_estimators = 11\n",
    "#### MAE = 4900\n",
    "#### BEST max_depth = 8\n",
    "#### MAE = 4767\n",
    "#### BEST learning_rate = 0.2663316582914573\n",
    "#### MAE = 4623.631200798262\n",
    "#### Reg_alpha\n",
    "133.06613226452907\n",
    "MAE: 4577.087092328461\n",
    "#### Reg_lambda\n",
    "11.623246492985972\n",
    "4442.908024873111\n",
    "### Model After Exploratory Parameter Tuning\n",
    "### Final Model with all attrs\n",
    "n_estimators=11,random_state=41,max_depth=8,\n",
    "                      learning_rate=0.2663316582914573,\n",
    "                      reg_alpha=133.06613226452907,\n",
    "                      reg_lambda =11.63265306122449\n",
    "Cross-Validation-Score:6768.117147546978\n",
    "MAE: 4442.52554416961\n",
    "MSE: 289463014.31045765\n",
    "Train R2: 0.901789473869717\n",
    "Test R2: 0.9159864700260604"
   ],
   "metadata": {
    "collapsed": false,
    "pycharm": {
     "name": "#%% md\n"
    }
   }
  },
  {
   "cell_type": "markdown",
   "source": [
    "## Trying to find the best hyper paramteters"
   ],
   "metadata": {
    "collapsed": false,
    "pycharm": {
     "name": "#%% md\n"
    }
   }
  },
  {
   "cell_type": "code",
   "execution_count": 115,
   "outputs": [
    {
     "name": "stdout",
     "text": [
      "Fitting 3 folds for each of 500 candidates, totalling 1500 fits\n",
      "[17:59:00] WARNING: C:\\Users\\Administrator\\workspace\\xgboost-win64_release_1.1.0\\src\\learner.cc:480: \nParameters: { colsample_bylevel, colsample_bynode, colsample_bytree, max_depth } might not be used.\n\n  This may not be accurate due to some parameters are only used in language bindings but\n  passed down to XGBoost core.  Or some parameters are not used but slip through this\n  verification. Please open an issue if you find above cases.\n\n\ndone\n"
     ],
     "output_type": "stream"
    }
   ],
   "source": [
    "# Randomized Search\n",
    "n_estimators = np.linspace(2,200,50,endpoint=True,dtype=int)\n",
    "max_depth = np.linspace(10,40,20,endpoint=True,dtype=int)\n",
    "learning_rate = np.linspace(0,1,10)\n",
    "reg_alpha = [0,56842105.26]\n",
    "reg_lambda = [667000000000000,1]\n",
    "# max_delta_step = [0.1]\n",
    "scale_pos_weight = np.linspace(1.0e4,1.0e5,10)\n",
    "colsample_bytree = np.linspace(0,1,10)\n",
    "colsample_bylevel = np.linspace(0,1,10)\n",
    "colsample_bynode = np.linspace(0,1,10)\n",
    "booster = ['gbtree','gblinear','dart']\n",
    "random_state = [41]\n",
    "random_grid = {\n",
    "    'n_estimators':n_estimators,\n",
    "    'max_depth':max_depth,\n",
    "    'learning_rate':learning_rate,\n",
    "    'reg_alpha':reg_alpha,\n",
    "    'reg_lambda':reg_lambda,\n",
    "    # 'max_delta_step':max_delta_step,\n",
    "    'scale_pos_weight':scale_pos_weight,\n",
    "    'colsample_bytree':colsample_bytree,\n",
    "    'colsample_bylevel':colsample_bylevel,\n",
    "    'colsample_bynode':colsample_bynode,\n",
    "    'booster':booster,\n",
    "    'random_state':random_state\n",
    "}\n",
    "xg_reg = XGBRegressor()\n",
    "random_search = RandomizedSearchCV(\n",
    "    estimator=xg_reg,\n",
    "    param_distributions=random_grid,\n",
    "    n_iter=500,\n",
    "    cv=3,\n",
    "    random_state=42,\n",
    "    n_jobs=-3,\n",
    "    verbose=2,\n",
    "    scoring='neg_mean_absolute_percentage_error')\n",
    "random_search.fit(X_train,y_train)\n",
    "print(\"done\")"
   ],
   "metadata": {
    "collapsed": false,
    "pycharm": {
     "name": "#%%\n",
     "is_executing": false
    }
   }
  },
  {
   "cell_type": "code",
   "execution_count": 116,
   "outputs": [
    {
     "data": {
      "text/plain": "0.9459185509089215"
     },
     "metadata": {},
     "output_type": "execute_result",
     "execution_count": 116
    }
   ],
   "source": [
    "-random_search.best_score_"
   ],
   "metadata": {
    "collapsed": false,
    "pycharm": {
     "name": "#%%\n",
     "is_executing": false
    }
   }
  },
  {
   "cell_type": "code",
   "execution_count": 117,
   "outputs": [
    {
     "data": {
      "text/plain": "{'scale_pos_weight': 100000.0,\n 'reg_lambda': 1,\n 'reg_alpha': 56842105.26,\n 'random_state': 41,\n 'n_estimators': 10,\n 'max_depth': 27,\n 'learning_rate': 0.5555555555555556,\n 'colsample_bytree': 0.6666666666666666,\n 'colsample_bynode': 0.2222222222222222,\n 'colsample_bylevel': 0.6666666666666666,\n 'booster': 'gblinear'}"
     },
     "metadata": {},
     "output_type": "execute_result",
     "execution_count": 117
    }
   ],
   "source": [
    "random_search.best_params_"
   ],
   "metadata": {
    "collapsed": false,
    "pycharm": {
     "name": "#%%\n",
     "is_executing": false
    }
   }
  },
  {
   "cell_type": "code",
   "execution_count": 118,
   "outputs": [
    {
     "data": {
      "text/plain": "0.6920062855659879"
     },
     "metadata": {},
     "output_type": "execute_result",
     "execution_count": 118
    }
   ],
   "source": [
    "y_pred = random_search.best_estimator_.predict(X_test)\n",
    "MAPE(y_pred,y_test)"
   ],
   "metadata": {
    "collapsed": false,
    "pycharm": {
     "name": "#%%\n",
     "is_executing": false
    }
   }
  },
  {
   "cell_type": "code",
   "execution_count": 119,
   "outputs": [
    {
     "name": "stdout",
     "text": [
      "Fitting 3 folds for each of 34992 candidates, totalling 104976 fits\n",
      "[18:16:53] WARNING: C:\\Users\\Administrator\\workspace\\xgboost-win64_release_1.1.0\\src\\learner.cc:480: \nParameters: { colsample_bylevel, colsample_bynode, colsample_bytree, max_delta_step, max_depth } might not be used.\n\n  This may not be accurate due to some parameters are only used in language bindings but\n  passed down to XGBoost core.  Or some parameters are not used but slip through this\n  verification. Please open an issue if you find above cases.\n\n\ndone\n"
     ],
     "output_type": "stream"
    }
   ],
   "source": [
    "# Grid Search\n",
    "n_estimators = [10,100,7]\n",
    "max_depth = [27,30,6]\n",
    "learning_rate = [0.55,0,0.3]\n",
    "reg_alpha = [0,56842105.26]\n",
    "reg_lambda = [667000000000000,1,0]\n",
    "max_delta_step = [0.1,0.7]\n",
    "scale_pos_weight = [100000,1]\n",
    "colsample_bytree = [0.66,0.84,1]\n",
    "colsample_bylevel = [0.66,0.84,1]\n",
    "colsample_bynode = [0.22,1]\n",
    "booster = ['gbtree','gblinear','dart']\n",
    "random_state = [41]\n",
    "search_grid = {\n",
    "    'n_estimators':n_estimators,\n",
    "    'max_depth':max_depth,\n",
    "    'learning_rate':learning_rate,\n",
    "    'reg_alpha':reg_alpha,\n",
    "    'reg_lambda':reg_lambda,\n",
    "    'max_delta_step':max_delta_step,\n",
    "    'scale_pos_weight':scale_pos_weight,\n",
    "    'colsample_bytree':colsample_bytree,\n",
    "    'colsample_bylevel':colsample_bylevel,\n",
    "    'colsample_bynode':colsample_bynode,\n",
    "    'booster':booster,\n",
    "    'random_state':random_state\n",
    "}\n",
    "xg_reg = XGBRegressor(random_state=41)\n",
    "search = GridSearchCV(\n",
    "    estimator=xg_reg,\n",
    "    param_grid=search_grid,\n",
    "    cv=3,\n",
    "    n_jobs=-3,\n",
    "    verbose=2,\n",
    "    scoring='neg_mean_absolute_percentage_error')\n",
    "search.fit(X_train,y_train)\n",
    "print(\"done\")"
   ],
   "metadata": {
    "collapsed": false,
    "pycharm": {
     "name": "#%%\n",
     "is_executing": false
    }
   }
  },
  {
   "cell_type": "code",
   "execution_count": 120,
   "outputs": [
    {
     "data": {
      "text/plain": "0.9467564790744802"
     },
     "metadata": {},
     "output_type": "execute_result",
     "execution_count": 120
    }
   ],
   "source": [
    "-search.best_score_"
   ],
   "metadata": {
    "collapsed": false,
    "pycharm": {
     "name": "#%%\n",
     "is_executing": false
    }
   }
  },
  {
   "cell_type": "code",
   "execution_count": 121,
   "outputs": [
    {
     "data": {
      "text/plain": "{'booster': 'gblinear',\n 'colsample_bylevel': 0.66,\n 'colsample_bynode': 0.22,\n 'colsample_bytree': 0.66,\n 'learning_rate': 0.55,\n 'max_delta_step': 0.1,\n 'max_depth': 27,\n 'n_estimators': 10,\n 'random_state': 41,\n 'reg_alpha': 56842105.26,\n 'reg_lambda': 1,\n 'scale_pos_weight': 100000}"
     },
     "metadata": {},
     "output_type": "execute_result",
     "execution_count": 121
    }
   ],
   "source": [
    "search.best_params_"
   ],
   "metadata": {
    "collapsed": false,
    "pycharm": {
     "name": "#%%\n",
     "is_executing": false
    }
   }
  },
  {
   "cell_type": "code",
   "execution_count": 122,
   "outputs": [
    {
     "data": {
      "text/plain": "0.693109333461706"
     },
     "metadata": {},
     "output_type": "execute_result",
     "execution_count": 122
    }
   ],
   "source": [
    "y_pred = search.best_estimator_.predict(X_test)\n",
    "MAPE(y_pred,y_test)"
   ],
   "metadata": {
    "collapsed": false,
    "pycharm": {
     "name": "#%%\n",
     "is_executing": false
    }
   }
  },
  {
   "cell_type": "markdown",
   "source": [
    "#FINAL MODEL"
   ],
   "metadata": {
    "collapsed": false,
    "pycharm": {
     "name": "#%% md\n",
     "is_executing": false
    }
   }
  },
  {
   "cell_type": "code",
   "execution_count": 124,
   "outputs": [
    {
     "name": "stdout",
     "text": [
      "4111.632716395066\n331360564.1560205\n0.9393211980625621\n"
     ],
     "output_type": "stream"
    }
   ],
   "source": [
    "mae = []\n",
    "mape = []\n",
    "mse = []\n",
    "for i in range(1,20):\n",
    "    print('****'+str(i)+'****')\n",
    "    X = df.drop('Actual Cost',axis=1)\n",
    "    y = df['Actual Cost']\n",
    "    X_train,X_test,y_train,y_test = train_test_split(\n",
    "        X,y,test_size=0.2)\n",
    "    xg_reg = search.best_estimator_\n",
    "    xg_reg.fit(X_train,y_train)\n",
    "    y_pred = xg_reg.predict(X_test)\n",
    "    clear_output(wait=True)\n",
    "    mae.append(MAE(y_test,y_pred))\n",
    "    mse.append(MSE(y_test,y_pred))\n",
    "    mape.append(MAPE(y_test,y_pred))\n",
    "print(np.average(mae))\n",
    "print(np.average(mse))\n",
    "print(np.average(mape))"
   ],
   "metadata": {
    "collapsed": false,
    "pycharm": {
     "name": "#%%\n",
     "is_executing": false
    }
   }
  },
  {
   "cell_type": "markdown",
   "source": [
    "the mean mae after running for 100 times: 6258.430085218316"
   ],
   "metadata": {
    "collapsed": false,
    "pycharm": {
     "name": "#%% md\n"
    }
   }
  },
  {
   "cell_type": "code",
   "execution_count": 106,
   "outputs": [
    {
     "name": "stdout",
     "text": [
      "MAE MSP:\n4371.532003104657\nMSE MSP:\n536755019.1048717\n"
     ],
     "output_type": "stream"
    }
   ],
   "source": [
    "MAE_MSP = MAE(df['Actual Cost'],df['Total Cost'])\n",
    "print(\"MAE MSP:\")\n",
    "print(MAE_MSP)\n",
    "MSE_MSP = MSE(df['Actual Cost'],df['Total Cost'])\n",
    "print(\"MSE MSP:\")\n",
    "print(MSE_MSP)"
   ],
   "metadata": {
    "collapsed": false,
    "pycharm": {
     "name": "#%%\n",
     "is_executing": false
    }
   }
  }
 ],
 "metadata": {
  "language_info": {
   "codemirror_mode": {
    "name": "ipython",
    "version": 2
   },
   "file_extension": ".py",
   "mimetype": "text/x-python",
   "name": "python",
   "nbconvert_exporter": "python",
   "pygments_lexer": "ipython2",
   "version": "2.7.6"
  },
  "kernelspec": {
   "name": "python3",
   "language": "python",
   "display_name": "Python 3"
  },
  "pycharm": {
   "stem_cell": {
    "cell_type": "raw",
    "source": [],
    "metadata": {
     "collapsed": false
    }
   }
  }
 },
 "nbformat": 4,
 "nbformat_minor": 0
}