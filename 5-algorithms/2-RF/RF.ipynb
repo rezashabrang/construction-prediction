{
 "cells": [
  {
   "cell_type": "code",
   "execution_count": 6,
   "metadata": {
    "collapsed": true,
    "pycharm": {
     "is_executing": false
    }
   },
   "outputs": [],
   "source": [
    "import pandas as pd\n",
    "import numpy as np\n",
    "from sklearn.tree import DecisionTreeRegressor\n",
    "from sklearn.model_selection import train_test_split\n",
    "from sklearn.metrics import mean_squared_error as MSE\n",
    "from sklearn.metrics import mean_absolute_error as MAE\n",
    "from sklearn.metrics import mean_absolute_percentage_error as MAPE\n",
    "from sklearn.ensemble import RandomForestRegressor\n",
    "import matplotlib.pyplot as plt\n",
    "import pydotplus\n",
    "import pickle\n",
    "from sklearn.model_selection import cross_val_score\n",
    "from sklearn.model_selection import RandomizedSearchCV\n",
    "from sklearn.model_selection import GridSearchCV\n",
    "from sklearn.preprocessing import StandardScaler, MinMaxScaler\n",
    "from IPython.display import clear_output\n",
    "from matplotlib import style\n",
    "style.use('ggplot')"
   ]
  },
  {
   "cell_type": "code",
   "execution_count": 2,
   "outputs": [
    {
     "data": {
      "text/plain": "   Duration  Resource Cost  Fixed Cost  Cost/Hour  Variable Cost  Total Cost  \\\n0       3.0         2400.0         0.0        0.0            0.0      2400.0   \n1       1.0          800.0         0.0        0.0            0.0       800.0   \n2       1.0          440.0         0.0        0.0            0.0       440.0   \n\n   Actual Cost  \n0       2400.0  \n1        800.0  \n2        440.0  ",
      "text/html": "<div>\n<style scoped>\n    .dataframe tbody tr th:only-of-type {\n        vertical-align: middle;\n    }\n\n    .dataframe tbody tr th {\n        vertical-align: top;\n    }\n\n    .dataframe thead th {\n        text-align: right;\n    }\n</style>\n<table border=\"1\" class=\"dataframe\">\n  <thead>\n    <tr style=\"text-align: right;\">\n      <th></th>\n      <th>Duration</th>\n      <th>Resource Cost</th>\n      <th>Fixed Cost</th>\n      <th>Cost/Hour</th>\n      <th>Variable Cost</th>\n      <th>Total Cost</th>\n      <th>Actual Cost</th>\n    </tr>\n  </thead>\n  <tbody>\n    <tr>\n      <th>0</th>\n      <td>3.0</td>\n      <td>2400.0</td>\n      <td>0.0</td>\n      <td>0.0</td>\n      <td>0.0</td>\n      <td>2400.0</td>\n      <td>2400.0</td>\n    </tr>\n    <tr>\n      <th>1</th>\n      <td>1.0</td>\n      <td>800.0</td>\n      <td>0.0</td>\n      <td>0.0</td>\n      <td>0.0</td>\n      <td>800.0</td>\n      <td>800.0</td>\n    </tr>\n    <tr>\n      <th>2</th>\n      <td>1.0</td>\n      <td>440.0</td>\n      <td>0.0</td>\n      <td>0.0</td>\n      <td>0.0</td>\n      <td>440.0</td>\n      <td>440.0</td>\n    </tr>\n  </tbody>\n</table>\n</div>"
     },
     "metadata": {},
     "output_type": "execute_result",
     "execution_count": 2
    }
   ],
   "source": [
    "df = pd.read_excel('../final_data.xlsx')\n",
    "df=df.iloc[:,1:]\n",
    "df_org = df.copy()\n",
    "df.head(3)"
   ],
   "metadata": {
    "collapsed": false,
    "pycharm": {
     "name": "#%%\n",
     "is_executing": false
    }
   }
  },
  {
   "cell_type": "code",
   "execution_count": 50,
   "outputs": [],
   "source": [
    "#Standardization or Normalization\n",
    "for column in df.columns:\n",
    "    df[column] = MinMaxScaler().fit_transform(np.array(df[column]).reshape(-1,1))\n",
    "df.head(10)"
   ],
   "metadata": {
    "collapsed": false,
    "pycharm": {
     "name": "#%%\n",
     "is_executing": false
    }
   }
  },
  {
   "cell_type": "code",
   "execution_count": 3,
   "outputs": [],
   "source": [
    "# setting x and y\n",
    "X = df.drop('Actual Cost',axis=1)\n",
    "# X = df[['Duration','Total Cost']]\n",
    "y = df['Actual Cost']\n",
    "# preparing test and train\n",
    "X_train,X_test,y_train,y_test = train_test_split(\n",
    "    X,y,test_size=0.2,random_state=41\n",
    ")"
   ],
   "metadata": {
    "collapsed": false,
    "pycharm": {
     "name": "#%%\n",
     "is_executing": false
    }
   }
  },
  {
   "cell_type": "code",
   "execution_count": 12,
   "outputs": [],
   "source": [
    "def generate_metrics(model):\n",
    "    cr_score = -cross_val_score(model,X_train,y_train,scoring='neg_mean_absolute_percentage_error',cv=3)\n",
    "    model.fit(X_train,y_train)\n",
    "    train_r2 = model.score(X_train,y_train)\n",
    "    test_r2 = model.score(X_test,y_test)\n",
    "    y_pred = model.predict(X_test)\n",
    "    error_MAE = MAE(y_pred,y_test)\n",
    "    error_MSE = MSE(y_test,y_pred)\n",
    "    error_MAPE = MAPE(y_test,y_pred)\n",
    "    return cr_score,train_r2,test_r2,error_MAE,error_MSE,error_MAPE\n",
    "def print_metrics(cr,tr_R,ts_R,mae,mse,mape):\n",
    "    print(\"Cross-Validation-Score:\"+str(np.average(cr)))\n",
    "    print(\"MAE: \"+str(mae))\n",
    "    print('MSE: '+str(mse))\n",
    "    print(\"Train R2: \"+ str(tr_R))\n",
    "    print(\"Test R2: \"+ str(ts_R))\n",
    "    print(\"MAPE: \"+ str(mape))\n",
    "def plot_mae(x,cr,mae,x_label):\n",
    "    min_x = x[mae.index(min(mae))]\n",
    "    min_y = min(mae)\n",
    "    min_cr_x = x[cr.index(min(cr))]\n",
    "    min_cr_y = min(cr)\n",
    "    fig = plt.figure()\n",
    "    plt.title('Random Forest HyperParameter OPT')\n",
    "    plt.xlabel(x_label)\n",
    "    plt.ylabel(\"error\")\n",
    "    plt.plot(x,cr,c='green',label='Cross-Val')\n",
    "    plt.plot(x,mae,c='red',label='Test-MAPE')\n",
    "    plt.plot(min_x,min_y,'oy',markersize=12)\n",
    "    plt.annotate(\"(\"+str(min_x)+', '+str(round(min_y,3))+\")\",xy=(min_x,min_y))\n",
    "    # plt.plot(min_cr_x,min_cr_y,'oy',markersize=12)\n",
    "    # plt.annotate(\"(\"+str(round(min_cr_x,2))+', '+str(round(min_cr_y,3))+\")\",xy=(min_cr_x,min_cr_y))\n",
    "    plt.legend()\n",
    "    plt.savefig('pics_mape/'+x_label+'.png')\n",
    "    plt.show()"
   ],
   "metadata": {
    "collapsed": false,
    "pycharm": {
     "name": "#%%\n",
     "is_executing": false
    }
   }
  },
  {
   "cell_type": "code",
   "execution_count": 32,
   "outputs": [
    {
     "name": "stdout",
     "text": [
      "****** 20/20 ******\n0.0\n0.6820362141135428\n"
     ],
     "output_type": "stream"
    },
    {
     "data": {
      "text/plain": "<Figure size 432x288 with 1 Axes>",
      "image/png": "[encoded data removed]"
     },
     "metadata": {},
     "output_type": "display_data"
    }
   ],
   "source": [
    "# -------------------------- For Tuning\n",
    "n_estimators = np.linspace(2,100,50,endpoint=True,dtype=int)\n",
    "max_depth = np.linspace(2,30,20,endpoint=True,dtype=int)\n",
    "min_samples_split = np.linspace(2,20,10,endpoint=True,dtype=int)\n",
    "min_samples_leaf = np.linspace(1,20,10,endpoint=True,dtype=int)\n",
    "max_samples = np.linspace(0,1,10,endpoint=False)[1:]\n",
    "max_leaf_nodes = np.linspace(1200,1800,50,endpoint=True,dtype=int)\n",
    "ccp_alpha = np.linspace(0,100,20,endpoint=True)\n",
    "min_impurity_decrease = np.linspace(0,100,20,endpoint=True,dtype=int)\n",
    "name_parameter = 'ccp_alpha'\n",
    "parameter = ccp_alpha\n",
    "couunter = 1\n",
    "cr_list = []\n",
    "mape_list = []\n",
    "for i in parameter:\n",
    "# --------------------------\n",
    "    rf_reg = RandomForestRegressor(\n",
    "        ccp_alpha=i,\n",
    "        random_state=41,\n",
    "        n_jobs=-3\n",
    "    )\n",
    "# -------------------------- For Tuning\n",
    "    cr,tr_R,ts_R,mae,mse,mape = generate_metrics(rf_reg)\n",
    "    cr_list.append(np.average(cr))\n",
    "    mape_list.append(mape)\n",
    "    if couunter % 10 == 0:\n",
    "        clear_output(wait=True)\n",
    "    print(\"****** \" + str(couunter)+'/'+str(len(parameter))+\" ******\")\n",
    "    couunter+=1\n",
    "print(parameter[mape_list.index(min(mape_list))])\n",
    "print(min(mape_list))\n",
    "plot_mae(parameter,cr_list,mape_list,x_label=name_parameter)\n",
    "# --------------------------\n",
    "# -------------------------- For Single Usage\n",
    "# print_metrics(cr,tr_R,ts_R,mae,mse,mape)\n",
    "# --------------------------"
   ],
   "metadata": {
    "collapsed": false,
    "pycharm": {
     "name": "#%%\n",
     "is_executing": false
    }
   }
  },
  {
   "cell_type": "markdown",
   "source": [
    "### Base Model (with no hyper parameters) <br>\n",
    "Cross-Validation-Score:6722.2538661331755 <br>\n",
    "MAE: 6737.619346774119 <br>\n",
    "MSE: 834961536.3497431 <br>\n",
    "Train R2: 0.9753240104772036 <br>\n",
    "Test R2: 0.901266912677243 <br>\n",
    "#### BEST n_estimators = 431\n",
    "##### MAE = 6677.9004\n",
    "#### BEST max_depth = 8\n",
    "##### MAE = 6542.21106909439\n",
    "#### BEST min_samples_split = 11\n",
    "##### MAE = 6334.272018314098\n",
    "#### BEST min_samples_leaf = 4\n",
    "##### MAE = 6646.574520190334\n",
    "#### BEST max_leaf_nodes = 82\n",
    "##### MAE = 6657.579062504648\n",
    "#### BEST min_impurity_decrease = 119.83967935871743\n",
    "##### MAE = 6665.3817623617915\n",
    "#### BEST bootstrap = True\n",
    "#### BEST max_samples = 0.2872\n",
    "##### MAE = 6366.429999261024\n",
    "#### BEST ccp_alpha = 39000\n",
    "##### MAE = 6664.685305700229\n",
    "### Model After Exploratory Parameter Tuning\n",
    "Cross-Validation-Score:6187.574146749767 <br>\n",
    "MAE: 6754.023327697424 <br>\n",
    "MSE: 1117927225.6733496 <br>\n",
    "Train R2: 0.8898011437878731 <br>\n",
    "Test R2: 0.8678065975644409\n",
    "### Final Model\n",
    "random_state=41,\n",
    "n_estimators=1000,\n",
    "max_depth=7,\n",
    "min_samples_split=9,\n",
    "min_samples_leaf=3,\n",
    "max_leaf_nodes=None,\n",
    "min_impurity_decrease=119.83967,\n",
    "bootstrap=True,\n",
    "max_samples=0.4,\n",
    "ccp_alpha=39000\n",
    "Cross-Validation-Score:5879.544732601455 <br>\n",
    "#### With two attrs\n",
    "MAE: 6543.527372424886 <br>\n",
    "MSE: 957089051.0565326 <br>\n",
    "Train R2: 0.9016946498240161 <br>\n",
    "Test R2: 0.8868254970561454 <br>\n",
    "#### with all attrs\n",
    "Cross-Validation-Score:6238.058009386623\n",
    "MAE: 5644.106595763625\n",
    "MSE: 833369576.0076303\n",
    "Train R2: 0.9212834898498198\n",
    "Test R2: 0.8039321740885634"
   ],
   "metadata": {
    "collapsed": false,
    "pycharm": {
     "name": "#%% md\n"
    }
   }
  },
  {
   "cell_type": "markdown",
   "source": [
    "## Trying to find the best hyper paramteters"
   ],
   "metadata": {
    "collapsed": false,
    "pycharm": {
     "name": "#%% md\n"
    }
   }
  },
  {
   "cell_type": "code",
   "execution_count": 34,
   "outputs": [
    {
     "name": "stdout",
     "text": [
      "Fitting 3 folds for each of 500 candidates, totalling 1500 fits\n",
      "done\n"
     ],
     "output_type": "stream"
    }
   ],
   "source": [
    "# Randomized Search\n",
    "n_estimators=np.linspace(2,200,50,dtype=int)\n",
    "max_depth=np.linspace(20,40,20,dtype=int)\n",
    "min_samples_split=[2]\n",
    "min_samples_leaf=[1]\n",
    "max_leaf_nodes = np.linspace(1300,1500,50,dtype=int)\n",
    "min_impurity_decrease=[0]\n",
    "max_samples=np.linspace(0.8,1,20,endpoint=False)\n",
    "ccp_alpha=[0]\n",
    "random_state = [41]\n",
    "random_grid = {\n",
    "    'n_estimators':n_estimators,\n",
    "    'max_depth':max_depth,\n",
    "    'min_samples_split':min_samples_split,\n",
    "    'min_samples_leaf':min_samples_leaf,\n",
    "    'max_leaf_nodes':max_leaf_nodes,\n",
    "    'max_samples':max_samples,\n",
    "    'ccp_alpha':ccp_alpha,\n",
    "    'min_impurity_decrease':min_impurity_decrease,\n",
    "    'random_state': random_state\n",
    "}\n",
    "rf_reg = RandomForestRegressor()\n",
    "random_search = RandomizedSearchCV(\n",
    "    estimator=rf_reg,\n",
    "    param_distributions=random_grid,\n",
    "    n_iter=500,\n",
    "    cv=3,\n",
    "    random_state=42,\n",
    "    n_jobs=-3,\n",
    "    verbose=2,\n",
    "    scoring='neg_mean_absolute_percentage_error')\n",
    "random_search.fit(X_train,y_train)\n",
    "print(\"done\")"
   ],
   "metadata": {
    "collapsed": false,
    "pycharm": {
     "name": "#%%\n",
     "is_executing": false
    }
   }
  },
  {
   "cell_type": "code",
   "execution_count": 35,
   "outputs": [
    {
     "data": {
      "text/plain": "1.0646332406425996"
     },
     "metadata": {},
     "output_type": "execute_result",
     "execution_count": 35
    }
   ],
   "source": [
    "-random_search.best_score_"
   ],
   "metadata": {
    "collapsed": false,
    "pycharm": {
     "name": "#%%\n",
     "is_executing": false
    }
   }
  },
  {
   "cell_type": "code",
   "execution_count": 36,
   "outputs": [
    {
     "data": {
      "text/plain": "{'random_state': 41,\n 'n_estimators': 10,\n 'min_samples_split': 2,\n 'min_samples_leaf': 1,\n 'min_impurity_decrease': 0,\n 'max_samples': 0.8200000000000001,\n 'max_leaf_nodes': 1304,\n 'max_depth': 35,\n 'ccp_alpha': 0}"
     },
     "metadata": {},
     "output_type": "execute_result",
     "execution_count": 36
    }
   ],
   "source": [
    "random_search.best_params_"
   ],
   "metadata": {
    "collapsed": false,
    "pycharm": {
     "name": "#%%\n",
     "is_executing": false
    }
   }
  },
  {
   "cell_type": "code",
   "execution_count": 37,
   "outputs": [
    {
     "data": {
      "text/plain": "0.8509978507811113"
     },
     "metadata": {},
     "output_type": "execute_result",
     "execution_count": 37
    }
   ],
   "source": [
    "y_pred = random_search.best_estimator_.predict(X_test)\n",
    "MAPE(y_test,y_pred)"
   ],
   "metadata": {
    "collapsed": false,
    "pycharm": {
     "name": "#%%\n",
     "is_executing": false
    }
   }
  },
  {
   "cell_type": "code",
   "execution_count": 38,
   "outputs": [
    {
     "name": "stdout",
     "text": [
      "Fitting 3 folds for each of 81 candidates, totalling 243 fits\n",
      "done\n"
     ],
     "output_type": "stream"
    }
   ],
   "source": [
    "# Grid Search\n",
    "n_estimators=[4,100,10]\n",
    "max_depth=[None,35,27]\n",
    "min_samples_split=[2]\n",
    "min_samples_leaf=[1]\n",
    "max_leaf_nodes=[None,1395,1304]\n",
    "min_impurity_decrease=[0]\n",
    "max_samples=[None,0.82,0.9]\n",
    "ccp_alpha=[0]\n",
    "random_state = [41]\n",
    "search_grid = {\n",
    "    'n_estimators':n_estimators,\n",
    "    'max_depth':max_depth,\n",
    "    'min_samples_split':min_samples_split,\n",
    "    'min_samples_leaf':min_samples_leaf,\n",
    "    'max_leaf_nodes':max_leaf_nodes,\n",
    "    'max_samples':max_samples,\n",
    "    'ccp_alpha':ccp_alpha,\n",
    "    'min_impurity_decrease':min_impurity_decrease,\n",
    "    'random_state': random_state\n",
    "}\n",
    "rf_reg = RandomForestRegressor()\n",
    "search = GridSearchCV(\n",
    "    estimator=rf_reg,\n",
    "    param_grid=search_grid,\n",
    "    cv=3,\n",
    "    n_jobs=-3,\n",
    "    verbose=2,\n",
    "    scoring='neg_mean_absolute_percentage_error')\n",
    "search.fit(X_train,y_train)\n",
    "print(\"done\")"
   ],
   "metadata": {
    "collapsed": false,
    "pycharm": {
     "name": "#%%\n",
     "is_executing": false
    }
   }
  },
  {
   "cell_type": "code",
   "execution_count": 39,
   "outputs": [
    {
     "data": {
      "text/plain": "1.0646332406425996"
     },
     "metadata": {},
     "output_type": "execute_result",
     "execution_count": 39
    }
   ],
   "source": [
    "-search.best_score_"
   ],
   "metadata": {
    "collapsed": false,
    "pycharm": {
     "name": "#%%\n",
     "is_executing": false
    }
   }
  },
  {
   "cell_type": "code",
   "execution_count": 40,
   "outputs": [
    {
     "data": {
      "text/plain": "{'ccp_alpha': 0,\n 'max_depth': None,\n 'max_leaf_nodes': 1395,\n 'max_samples': 0.82,\n 'min_impurity_decrease': 0,\n 'min_samples_leaf': 1,\n 'min_samples_split': 2,\n 'n_estimators': 10,\n 'random_state': 41}"
     },
     "metadata": {},
     "output_type": "execute_result",
     "execution_count": 40
    }
   ],
   "source": [
    "search.best_params_"
   ],
   "metadata": {
    "collapsed": false,
    "pycharm": {
     "name": "#%%\n",
     "is_executing": false
    }
   }
  },
  {
   "cell_type": "code",
   "execution_count": 41,
   "outputs": [
    {
     "data": {
      "text/plain": "0.8509978507811113"
     },
     "metadata": {},
     "output_type": "execute_result",
     "execution_count": 41
    }
   ],
   "source": [
    "y_pred = search.best_estimator_.predict(X_test)\n",
    "MAPE(y_test,y_pred)"
   ],
   "metadata": {
    "collapsed": false,
    "pycharm": {
     "name": "#%%\n",
     "is_executing": false
    }
   }
  },
  {
   "cell_type": "markdown",
   "source": [
    "#FINAL MODEL"
   ],
   "metadata": {
    "collapsed": false,
    "pycharm": {
     "name": "#%% md\n",
     "is_executing": false
    }
   }
  },
  {
   "cell_type": "code",
   "execution_count": 42,
   "outputs": [
    {
     "name": "stdout",
     "text": [
      "****1****\n****2****\n****3****\n",
      "****4****\n****5****\n",
      "****6****\n****7****\n****8****\n",
      "****9****\n****10****\n",
      "****11****\n****12****\n****13****\n",
      "****14****\n****15****\n",
      "****16****\n****17****\n****18****\n",
      "****19****\n5452.757447050508\n459464972.48970693\n1.0382000679315062\n"
     ],
     "output_type": "stream"
    }
   ],
   "source": [
    "mae = []\n",
    "mape = []\n",
    "mse = []\n",
    "for i in range(1,20):\n",
    "    print('****'+str(i)+'****')\n",
    "    X = df.drop('Actual Cost',axis=1)\n",
    "    y = df['Actual Cost']\n",
    "    X_train,X_test,y_train,y_test = train_test_split(\n",
    "        X,y,test_size=0.2)\n",
    "    rf_reg = search.best_estimator_\n",
    "    rf_reg.fit(X_train,y_train)\n",
    "    y_pred = rf_reg.predict(X_test)\n",
    "    mae.append(MAE(y_test,y_pred))\n",
    "    mse.append(MSE(y_test,y_pred))\n",
    "    mape.append(MAPE(y_test,y_pred))\n",
    "print(np.average(mae))\n",
    "print(np.average(mse))\n",
    "print(np.average(mape))\n"
   ],
   "metadata": {
    "collapsed": false,
    "pycharm": {
     "name": "#%%\n",
     "is_executing": false
    }
   }
  },
  {
   "cell_type": "markdown",
   "source": [
    "the mean mae after running for 100 times: 5842.266615793431"
   ],
   "metadata": {
    "collapsed": false,
    "pycharm": {
     "name": "#%% md\n"
    }
   }
  },
  {
   "cell_type": "code",
   "execution_count": 76,
   "outputs": [
    {
     "name": "stdout",
     "text": [
      "MAE MSP:\n3864.3625628316436\nMSE MSP:\n350210683.9717696\nMAPE MSP:\n0.741589091679601\n"
     ],
     "output_type": "stream"
    }
   ],
   "source": [
    "MAE_MSP = MAE(df['Actual Cost'],df['Total Cost'])\n",
    "print(\"MAE MSP:\")\n",
    "print(MAE_MSP)\n",
    "MSE_MSP = MSE(df['Actual Cost'],df['Total Cost'])\n",
    "print(\"MSE MSP:\")\n",
    "print(MSE_MSP)\n",
    "MAPE_MSP = MAPE(df['Actual Cost'],df['Total Cost'])\n",
    "print(\"MAPE MSP:\")\n",
    "print(MAPE_MSP)"
   ],
   "metadata": {
    "collapsed": false,
    "pycharm": {
     "name": "#%%\n",
     "is_executing": false
    }
   }
  },
  {
   "cell_type": "code",
   "execution_count": 29,
   "outputs": [],
   "source": [
    "# Saving Tree Graph\n",
    "# dot_data = tree.export_graphviz(tree_regressor, out_file=None, \n",
    "#                                 feature_names=['Duration','Total Cost'],class_names=['Acutal Cost'])\n",
    "# graph = pydotplus.graph_from_dot_data(dot_data)  \n",
    "# graph.write_svg(\"tree.svg\")"
   ],
   "metadata": {
    "collapsed": false,
    "pycharm": {
     "name": "#%%\n",
     "is_executing": false
    }
   }
  },
  {
   "cell_type": "code",
   "execution_count": 30,
   "outputs": [],
   "source": [
    "# Saving model\n",
    "pkl_filename = \"tree.pkl\"\n",
    "with open(pkl_filename, 'wb') as file:\n",
    "    pickle.dump(tree_regressor, file)"
   ],
   "metadata": {
    "collapsed": false,
    "pycharm": {
     "name": "#%%\n",
     "is_executing": false
    }
   }
  },
  {
   "cell_type": "code",
   "execution_count": 9,
   "outputs": [],
   "source": [
    "pkl_filename = \"tree.pkl\"\n",
    "with open(pkl_filename,'rb') as file:\n",
    "    model = pickle.load(file)\n",
    "print(\"MODEL IMPORTED!\")\n"
   ],
   "metadata": {
    "collapsed": false,
    "pycharm": {
     "name": "#%%\n",
     "is_executing": false
    }
   }
  }
 ],
 "metadata": {
  "language_info": {
   "codemirror_mode": {
    "name": "ipython",
    "version": 2
   },
   "file_extension": ".py",
   "mimetype": "text/x-python",
   "name": "python",
   "nbconvert_exporter": "python",
   "pygments_lexer": "ipython2",
   "version": "2.7.6"
  },
  "kernelspec": {
   "name": "python3",
   "language": "python",
   "display_name": "Python 3"
  },
  "pycharm": {
   "stem_cell": {
    "cell_type": "raw",
    "source": [],
    "metadata": {
     "collapsed": false
    }
   }
  }
 },
 "nbformat": 4,
 "nbformat_minor": 0
}