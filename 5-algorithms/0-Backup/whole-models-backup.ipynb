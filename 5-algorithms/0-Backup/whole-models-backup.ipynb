{
 "cells": [
  {
   "cell_type": "code",
   "execution_count": 1,
   "metadata": {
    "collapsed": true,
    "pycharm": {
     "is_executing": false
    }
   },
   "outputs": [],
   "source": [
    "import pandas as pd\n",
    "import numpy as np\n",
    "from sklearn.tree import DecisionTreeRegressor\n",
    "from sklearn.model_selection import train_test_split\n",
    "from sklearn.metrics import mean_squared_error as MSE\n",
    "from sklearn.metrics import mean_absolute_error as MAE\n",
    "from sklearn import tree\n",
    "import matplotlib.pyplot as plt\n",
    "import pydotplus\n",
    "import pickle\n",
    "from sklearn.model_selection import cross_val_score\n",
    "from sklearn.model_selection import RandomizedSearchCV\n",
    "from sklearn.model_selection import GridSearchCV\n",
    "from sklearn.ensemble import RandomForestRegressor\n",
    "import xgboost as xgb\n",
    "from sklearn.preprocessing import StandardScaler, MinMaxScaler\n",
    "from tensorflow.keras.layers import Dropout, Dense\n",
    "from tensorflow.keras.optimizers import Adam\n",
    "from tensorflow.keras.utils import to_categorical\n",
    "from tensorflow.keras.models import Sequential"
   ]
  },
  {
   "cell_type": "code",
   "execution_count": 56,
   "outputs": [
    {
     "data": {
      "text/plain": "   Duration  Resource Cost  Fixed Cost  Cost/Hour  Variable Cost  Total Cost  \\\n0       3.0         2400.0         0.0        0.0            0.0      2400.0   \n1       1.0          800.0         0.0        0.0            0.0       800.0   \n2       1.0          440.0         0.0        0.0            0.0       440.0   \n\n   Actual Cost  \n0       2400.0  \n1        800.0  \n2        440.0  ",
      "text/html": "<div>\n<style scoped>\n    .dataframe tbody tr th:only-of-type {\n        vertical-align: middle;\n    }\n\n    .dataframe tbody tr th {\n        vertical-align: top;\n    }\n\n    .dataframe thead th {\n        text-align: right;\n    }\n</style>\n<table border=\"1\" class=\"dataframe\">\n  <thead>\n    <tr style=\"text-align: right;\">\n      <th></th>\n      <th>Duration</th>\n      <th>Resource Cost</th>\n      <th>Fixed Cost</th>\n      <th>Cost/Hour</th>\n      <th>Variable Cost</th>\n      <th>Total Cost</th>\n      <th>Actual Cost</th>\n    </tr>\n  </thead>\n  <tbody>\n    <tr>\n      <th>0</th>\n      <td>3.0</td>\n      <td>2400.0</td>\n      <td>0.0</td>\n      <td>0.0</td>\n      <td>0.0</td>\n      <td>2400.0</td>\n      <td>2400.0</td>\n    </tr>\n    <tr>\n      <th>1</th>\n      <td>1.0</td>\n      <td>800.0</td>\n      <td>0.0</td>\n      <td>0.0</td>\n      <td>0.0</td>\n      <td>800.0</td>\n      <td>800.0</td>\n    </tr>\n    <tr>\n      <th>2</th>\n      <td>1.0</td>\n      <td>440.0</td>\n      <td>0.0</td>\n      <td>0.0</td>\n      <td>0.0</td>\n      <td>440.0</td>\n      <td>440.0</td>\n    </tr>\n  </tbody>\n</table>\n</div>"
     },
     "metadata": {},
     "output_type": "execute_result",
     "execution_count": 56
    }
   ],
   "source": [
    "df = pd.read_excel('../data_final.xlsx')\n",
    "df=df.iloc[:,1:]\n",
    "df_org = df.copy()\n",
    "df.head(3)"
   ],
   "metadata": {
    "collapsed": false,
    "pycharm": {
     "name": "#%%\n",
     "is_executing": false
    }
   }
  },
  {
   "cell_type": "code",
   "execution_count": 50,
   "outputs": [
    {
     "data": {
      "text/plain": "   Duration  Resource Cost    Fixed Cost  Cost/Hour  Variable Cost  \\\n0  0.031637       0.038095  0.000000e+00        0.0            0.0   \n1  0.009629       0.012698  0.000000e+00        0.0            0.0   \n2  0.009629       0.006984  0.000000e+00        0.0            0.0   \n3  0.000000       0.000000  9.328654e-07        0.0            0.0   \n4  0.004127       0.005841  8.878677e-03        0.0            0.0   \n5  0.009629       0.017524  7.204146e-03        0.0            0.0   \n6  0.196699       0.315429  8.191025e-04        0.0            0.0   \n7  0.086657       0.168229  3.862063e-04        0.0            0.0   \n8  0.053645       0.105143  3.358315e-05        0.0            0.0   \n9  0.053645       0.090794  7.749574e-03        0.0            0.0   \n\n     Total Cost   Actual Cost  \n0  2.149177e-03  2.149177e-03  \n1  7.163863e-04  7.163863e-04  \n2  3.940084e-04  3.940084e-04  \n3  8.865392e-07  8.865392e-07  \n4  8.852523e-03  8.852523e-03  \n5  7.904159e-03  7.904159e-03  \n6  1.858154e-02  1.858154e-02  \n7  9.861530e-03  9.861530e-03  \n8  5.963982e-03  5.963982e-03  \n9  1.256134e-02  1.256134e-02  ",
      "text/html": "<div>\n<style scoped>\n    .dataframe tbody tr th:only-of-type {\n        vertical-align: middle;\n    }\n\n    .dataframe tbody tr th {\n        vertical-align: top;\n    }\n\n    .dataframe thead th {\n        text-align: right;\n    }\n</style>\n<table border=\"1\" class=\"dataframe\">\n  <thead>\n    <tr style=\"text-align: right;\">\n      <th></th>\n      <th>Duration</th>\n      <th>Resource Cost</th>\n      <th>Fixed Cost</th>\n      <th>Cost/Hour</th>\n      <th>Variable Cost</th>\n      <th>Total Cost</th>\n      <th>Actual Cost</th>\n    </tr>\n  </thead>\n  <tbody>\n    <tr>\n      <th>0</th>\n      <td>0.031637</td>\n      <td>0.038095</td>\n      <td>0.000000e+00</td>\n      <td>0.0</td>\n      <td>0.0</td>\n      <td>2.149177e-03</td>\n      <td>2.149177e-03</td>\n    </tr>\n    <tr>\n      <th>1</th>\n      <td>0.009629</td>\n      <td>0.012698</td>\n      <td>0.000000e+00</td>\n      <td>0.0</td>\n      <td>0.0</td>\n      <td>7.163863e-04</td>\n      <td>7.163863e-04</td>\n    </tr>\n    <tr>\n      <th>2</th>\n      <td>0.009629</td>\n      <td>0.006984</td>\n      <td>0.000000e+00</td>\n      <td>0.0</td>\n      <td>0.0</td>\n      <td>3.940084e-04</td>\n      <td>3.940084e-04</td>\n    </tr>\n    <tr>\n      <th>3</th>\n      <td>0.000000</td>\n      <td>0.000000</td>\n      <td>9.328654e-07</td>\n      <td>0.0</td>\n      <td>0.0</td>\n      <td>8.865392e-07</td>\n      <td>8.865392e-07</td>\n    </tr>\n    <tr>\n      <th>4</th>\n      <td>0.004127</td>\n      <td>0.005841</td>\n      <td>8.878677e-03</td>\n      <td>0.0</td>\n      <td>0.0</td>\n      <td>8.852523e-03</td>\n      <td>8.852523e-03</td>\n    </tr>\n    <tr>\n      <th>5</th>\n      <td>0.009629</td>\n      <td>0.017524</td>\n      <td>7.204146e-03</td>\n      <td>0.0</td>\n      <td>0.0</td>\n      <td>7.904159e-03</td>\n      <td>7.904159e-03</td>\n    </tr>\n    <tr>\n      <th>6</th>\n      <td>0.196699</td>\n      <td>0.315429</td>\n      <td>8.191025e-04</td>\n      <td>0.0</td>\n      <td>0.0</td>\n      <td>1.858154e-02</td>\n      <td>1.858154e-02</td>\n    </tr>\n    <tr>\n      <th>7</th>\n      <td>0.086657</td>\n      <td>0.168229</td>\n      <td>3.862063e-04</td>\n      <td>0.0</td>\n      <td>0.0</td>\n      <td>9.861530e-03</td>\n      <td>9.861530e-03</td>\n    </tr>\n    <tr>\n      <th>8</th>\n      <td>0.053645</td>\n      <td>0.105143</td>\n      <td>3.358315e-05</td>\n      <td>0.0</td>\n      <td>0.0</td>\n      <td>5.963982e-03</td>\n      <td>5.963982e-03</td>\n    </tr>\n    <tr>\n      <th>9</th>\n      <td>0.053645</td>\n      <td>0.090794</td>\n      <td>7.749574e-03</td>\n      <td>0.0</td>\n      <td>0.0</td>\n      <td>1.256134e-02</td>\n      <td>1.256134e-02</td>\n    </tr>\n  </tbody>\n</table>\n</div>"
     },
     "metadata": {},
     "output_type": "execute_result",
     "execution_count": 50
    }
   ],
   "source": [
    "#Standard\n",
    "for column in df.columns:\n",
    "    df[column] = MinMaxScaler().fit_transform(np.array(df[column]).reshape(-1,1))\n",
    "df.head(10)"
   ],
   "metadata": {
    "collapsed": false,
    "pycharm": {
     "name": "#%%\n",
     "is_executing": false
    }
   }
  },
  {
   "cell_type": "code",
   "execution_count": 57,
   "outputs": [
    {
     "data": {
      "text/plain": "(3074, 2)"
     },
     "metadata": {},
     "output_type": "execute_result",
     "execution_count": 57
    }
   ],
   "source": [
    "# setting x and y\n",
    "#X = df.drop('Actual Cost',axis=1)\n",
    "X = df[['Duration','Total Cost']]\n",
    "y = df['Actual Cost']\n",
    "# preparing test and train\n",
    "X_train,X_test,y_train,y_test = train_test_split(\n",
    "    X,y,test_size=0.3\n",
    ")\n",
    "X.shape"
   ],
   "metadata": {
    "collapsed": false,
    "pycharm": {
     "name": "#%%\n",
     "is_executing": false
    }
   }
  },
  {
   "cell_type": "code",
   "execution_count": 58,
   "outputs": [
    {
     "name": "stdout",
     "text": [
      "Epoch 1/5\n",
      "\r 1/97 [..............................] - ETA: 0s - loss: 3248194560.0000",
      "\b\b\b\b\b\b\b\b\b\b\b\b\b\b\b\b\b\b\b\b\b\b\b\b\b\b\b\b\b\b\b\b\b\b\b\b\b\b\b\b\b\b\b\b\b\b\b\b\b\b\b\b\b\b\b\b\b\b\b\b\b\b\b\b\b\b\b\b\b\b\b\b\r53/97 [===============>..............] - ETA: 0s - loss: 2002668288.0000",
      "\b\b\b\b\b\b\b\b\b\b\b\b\b\b\b\b\b\b\b\b\b\b\b\b\b\b\b\b\b\b\b\b\b\b\b\b\b\b\b\b\b\b\b\b\b\b\b\b\b\b\b\b\b\b\b\b\b\b\b\b\b\b\b\b\b\b\b\b\b\b\b\b\r97/97 [==============================] - 0s 979us/step - loss: 1812578048.0000\n",
      "Epoch 2/5\n\r 1/97 [..............................] - ETA: 0s - loss: 510276512.0000",
      "\b\b\b\b\b\b\b\b\b\b\b\b\b\b\b\b\b\b\b\b\b\b\b\b\b\b\b\b\b\b\b\b\b\b\b\b\b\b\b\b\b\b\b\b\b\b\b\b\b\b\b\b\b\b\b\b\b\b\b\b\b\b\b\b\b\b\b\b\b\b\b\r42/97 [===========>..................] - ETA: 0s - loss: 489926912.0000",
      "\b\b\b\b\b\b\b\b\b\b\b\b\b\b\b\b\b\b\b\b\b\b\b\b\b\b\b\b\b\b\b\b\b\b\b\b\b\b\b\b\b\b\b\b\b\b\b\b\b\b\b\b\b\b\b\b\b\b\b\b\b\b\b\b\b\b\b\b\b\b\b",
      "\r83/97 [========================>.....] - ETA: 0s - loss: 673623296.0000",
      "\b\b\b\b\b\b\b\b\b\b\b\b\b\b\b\b\b\b\b\b\b\b\b\b\b\b\b\b\b\b\b\b\b\b\b\b\b\b\b\b\b\b\b\b\b\b\b\b\b\b\b\b\b\b\b\b\b\b\b\b\b\b\b\b\b\b\b\b\b\b\b\r97/97 [==============================] - 0s 1ms/step - loss: 690667200.0000\n",
      "Epoch 3/5\n\r",
      " 1/97 [..............................] - ETA: 0s - loss: 7245860352.0000",
      "\b\b\b\b\b\b\b\b\b\b\b\b\b\b\b\b\b\b\b\b\b\b\b\b\b\b\b\b\b\b\b\b\b\b\b\b\b\b\b\b\b\b\b\b\b\b\b\b\b\b\b\b\b\b\b\b\b\b\b\b\b\b\b\b\b\b\b\b\b\b\b\b",
      "\r51/97 [==============>...............] - ETA: 0s - loss: 987462656.0000 ",
      "\b\b\b\b\b\b\b\b\b\b\b\b\b\b\b\b\b\b\b\b\b\b\b\b\b\b\b\b\b\b\b\b\b\b\b\b\b\b\b\b\b\b\b\b\b\b\b\b\b\b\b\b\b\b\b\b\b\b\b\b\b\b\b\b\b\b\b\b\b\b\b\r97/97 [==============================] - 0s 999us/step - loss: 677332096.0000\n",
      "Epoch 4/5\n\r 1/97 [..............................] - ETA: 0s - loss: 121371632.0000",
      "\b\b\b\b\b\b\b\b\b\b\b\b\b\b\b\b\b\b\b\b\b\b\b\b\b\b\b\b\b\b\b\b\b\b\b\b\b\b\b\b\b\b\b\b\b\b\b\b\b\b\b\b\b\b\b\b\b\b\b\b\b\b\b\b\b\b\b\b\b\b\b\r51/97 [==============>...............] - ETA: 0s - loss: 801231680.0000",
      "\b\b\b\b\b\b\b\b\b\b\b\b\b\b\b\b\b\b\b\b\b\b\b\b\b\b\b\b\b\b\b\b\b\b\b\b\b\b\b\b\b\b\b\b\b\b\b\b\b\b\b\b\b\b\b\b\b\b\b\b\b\b\b\b\b\b\b\b\b\b\b",
      "\r97/97 [==============================] - 0s 968us/step - loss: 674491328.0000\n",
      "Epoch 5/5\n\r 1/97 [..............................] - ETA: 0s - loss: 2376817664.0000",
      "\b\b\b\b\b\b\b\b\b\b\b\b\b\b\b\b\b\b\b\b\b\b\b\b\b\b\b\b\b\b\b\b\b\b\b\b\b\b\b\b\b\b\b\b\b\b\b\b\b\b\b\b\b\b\b\b\b\b\b\b\b\b\b\b\b\b\b\b\b\b\b\b",
      "\r54/97 [===============>..............] - ETA: 0s - loss: 528036640.0000 ",
      "\b\b\b\b\b\b\b\b\b\b\b\b\b\b\b\b\b\b\b\b\b\b\b\b\b\b\b\b\b\b\b\b\b\b\b\b\b\b\b\b\b\b\b\b\b\b\b\b\b\b\b\b\b\b\b\b\b\b\b\b\b\b\b\b\b\b\b\b\b\b\b\r93/97 [===========================>..] - ETA: 0s - loss: 595247808.0000",
      "\b\b\b\b\b\b\b\b\b\b\b\b\b\b\b\b\b\b\b\b\b\b\b\b\b\b\b\b\b\b\b\b\b\b\b\b\b\b\b\b\b\b\b\b\b\b\b\b\b\b\b\b\b\b\b\b\b\b\b\b\b\b\b\b\b\b\b\b\b\b\b\r97/97 [==============================] - 0s 1ms/step - loss: 680747968.0000\n",
      "MAE ANN ON TEST:",
      "\n5099.850458903961\n"
     ],
     "output_type": "stream"
    }
   ],
   "source": [
    "# create model\n",
    "model = Sequential()\n",
    "model.add(Dense(6, input_dim=2,  activation='linear'))\n",
    "model.add(Dense(6,activation='linear'))\n",
    "model.add(Dense(1,activation='linear'))\n",
    "# Compile model\n",
    "model.compile(loss='mean_squared_error', optimizer='adam')\n",
    "model.fit(X,y,epochs=5)\n",
    "y_pred = model.predict(X)\n",
    "print(\"MAE ANN ON TEST:\")\n",
    "print(MAE(y,y_pred))"
   ],
   "metadata": {
    "collapsed": false,
    "pycharm": {
     "name": "#%%\n",
     "is_executing": false
    }
   }
  },
  {
   "cell_type": "code",
   "execution_count": 59,
   "outputs": [
    {
     "name": "stdout",
     "text": [
      "MAE XGB ON TEST:\n2023.9696802180272\n",
      "MAE RF CROSS-VALIDATION:\n7704.293411769661\n",
      "MAE RF ON TEST:\n2828.001580424186\nMAE MSP:\n4795.18957719731\n"
     ],
     "output_type": "stream"
    }
   ],
   "source": [
    "xg_reg = xgb.XGBRegressor()\n",
    "xg_reg.fit(X,y)\n",
    "y_pred = xg_reg.predict(X)\n",
    "print(\"MAE XGB ON TEST:\")\n",
    "print(MAE(y,y_pred))\n",
    "model = RandomForestRegressor()\n",
    "cross = cross_val_score(model,X,y,cv=3,scoring='neg_mean_absolute_error')\n",
    "print(\"MAE RF CROSS-VALIDATION:\")\n",
    "print(-np.average(cross))\n",
    "model.fit(X,y)\n",
    "y_pred = model.predict(X)\n",
    "print(\"MAE RF ON TEST:\")\n",
    "print(MAE(y,y_pred))\n",
    "MAE_MSP = MAE(df['Actual Cost'],df['Total Cost'])\n",
    "print(\"MAE MSP:\")\n",
    "print(MAE_MSP)"
   ],
   "metadata": {
    "collapsed": false,
    "pycharm": {
     "name": "#%%\n",
     "is_executing": false
    }
   }
  },
  {
   "cell_type": "markdown",
   "source": [
    "RandomForest HyperParameter Tuning"
   ],
   "metadata": {
    "collapsed": false,
    "pycharm": {
     "name": "#%% md\n",
     "is_executing": false
    }
   }
  },
  {
   "cell_type": "code",
   "execution_count": 6,
   "outputs": [
    {
     "name": "stdout",
     "text": [
      "Fitting 3 folds for each of 30 candidates, totalling 90 fits\n"
     ],
     "output_type": "stream"
    },
    {
     "name": "stderr",
     "text": [
      "[Parallel(n_jobs=-1)]: Using backend LokyBackend with 8 concurrent workers.\n",
      "[Parallel(n_jobs=-1)]: Done  25 tasks      | elapsed:   18.8s\n",
      "[Parallel(n_jobs=-1)]: Done  90 out of  90 | elapsed:  1.2min finished\n"
     ],
     "output_type": "stream"
    },
    {
     "data": {
      "text/plain": "{'n_estimators': 1800,\n 'min_samples_split': 10,\n 'min_samples_leaf': 4,\n 'max_features': 'auto',\n 'max_depth': 90,\n 'bootstrap': True}"
     },
     "metadata": {},
     "output_type": "execute_result",
     "execution_count": 6
    }
   ],
   "source": [
    "# Number of trees in random forest\n",
    "n_estimators = [int(x) for x in np.linspace(start = 200, stop = 2000, num = 10)]\n",
    "# Number of features to consider at every split\n",
    "max_features = ['auto', 'sqrt']\n",
    "# Maximum number of levels in tree\n",
    "max_depth = [int(x) for x in np.linspace(10, 110, num = 11)]\n",
    "max_depth.append(None)\n",
    "# Minimum number of samples required to split a node\n",
    "min_samples_split = [2, 5, 10]\n",
    "# Minimum number of samples required at each leaf node\n",
    "min_samples_leaf = [1, 2, 4]\n",
    "# Method of selecting samples for training each tree\n",
    "bootstrap = [True, False]\n",
    "# Create the random grid\n",
    "random_grid = {'n_estimators': n_estimators,\n",
    "               'max_features': max_features,\n",
    "               'max_depth': max_depth,\n",
    "               'min_samples_split': min_samples_split,\n",
    "               'min_samples_leaf': min_samples_leaf,\n",
    "               'bootstrap': bootstrap}\n",
    "# Use the random grid to search for best hyperparameters\n",
    "# First create the base model to tune\n",
    "rf = RandomForestRegressor()\n",
    "# Random search of parameters, using 3 fold cross validation, \n",
    "# search across 100 different combinations, and use all available cores\n",
    "rf_random = RandomizedSearchCV(estimator = rf, param_distributions = random_grid, n_iter = 30, cv = 3, verbose=2, random_state=42, n_jobs = -1)\n",
    "# Fit the random search model\n",
    "rf_random.fit(X_train, y_train)\n",
    "rf_random.best_params_"
   ],
   "metadata": {
    "collapsed": false,
    "pycharm": {
     "name": "#%%\n",
     "is_executing": false
    }
   }
  },
  {
   "cell_type": "markdown",
   "source": [
    "## Trying to find the best hyper paramteters"
   ],
   "metadata": {
    "collapsed": false,
    "pycharm": {
     "name": "#%% md\n"
    }
   }
  },
  {
   "cell_type": "code",
   "execution_count": null,
   "outputs": [],
   "source": [
    "splitter = ['best','random']\n",
    "max_depth=[None,10,20,50,100,150,200,500]\n",
    "min_samples_split=[1,2,5,10,20]\n",
    "min_samples_leaf = [1,2,5,10,20]\n",
    "max_features = ['auto','sqrt','log2']\n",
    "max_leaf_nodes = [None,100,500,1000]\n",
    "ccp_alpha = [0,1,5,10,20]\n",
    "min_impurity_decrease = [0,10,20,100,200,500]\n",
    "random_grid = {\n",
    "    'splitter':splitter,\n",
    "    'max_depth':max_depth,\n",
    "    'min_samples_split':min_samples_split,\n",
    "    'min_samples_leaf':min_samples_leaf,\n",
    "    'max_features':max_features,\n",
    "    'max_leaf_nodes':max_leaf_nodes,\n",
    "    'ccp_alpha':ccp_alpha,\n",
    "    'min_impurity_decrease':min_impurity_decrease\n",
    "}\n",
    "tree_regressor = DecisionTreeRegressor()\n",
    "random_search = RandomizedSearchCV(\n",
    "    estimator=tree_regressor,\n",
    "    param_distributions=random_grid,\n",
    "    n_iter=30,\n",
    "    cv=3,\n",
    "    random_state=42,\n",
    "    n_jobs=-1,\n",
    "    verbose=2,\n",
    "    scoring='neg_mean_absolute_error'\n",
    ")\n",
    "random_search.fit(X_train,y_train)\n",
    "print(\"done\")"
   ],
   "metadata": {
    "collapsed": false,
    "pycharm": {
     "name": "#%%\n",
     "is_executing": true
    }
   }
  },
  {
   "cell_type": "code",
   "execution_count": 55,
   "outputs": [
    {
     "name": "stdout",
     "text": [
      "-11705.91433417153\n"
     ],
     "output_type": "stream"
    }
   ],
   "source": [
    "print(random_search.best_score_)"
   ],
   "metadata": {
    "collapsed": false,
    "pycharm": {
     "name": "#%%\n",
     "is_executing": false
    }
   }
  },
  {
   "cell_type": "code",
   "execution_count": 47,
   "outputs": [
    {
     "name": "stdout",
     "text": [
      "9736.453763354217\n"
     ],
     "output_type": "stream"
    }
   ],
   "source": [
    "cross = cross_val_score(tree_regressor,X_train,y_train,cv=5,scoring='neg_mean_absolute_error')\n",
    "print(-np.average(cross))"
   ],
   "metadata": {
    "collapsed": false,
    "pycharm": {
     "name": "#%%\n",
     "is_executing": false
    }
   }
  },
  {
   "cell_type": "code",
   "execution_count": 141,
   "outputs": [
    {
     "name": "stdout",
     "text": [
      "Train R2: 0.9837175411327904\nTest R2: 0.9709122363430546\nMSE:\n2725765.5829482283\nMAE:\n391.2401493599831\n"
     ],
     "output_type": "stream"
    }
   ],
   "source": [
    "# Defining Model\n",
    "tree_regressor = DecisionTreeRegressor(random_state=42)\n",
    "# fitting\n",
    "tree_regressor.fit(X,y)\n",
    "# R2 scores\n",
    "train_r2 = tree_regressor.score(X_train,y_train)\n",
    "test_r2 = tree_regressor.score(X_test,y_test)\n",
    "print(\"Train R2: \"+ str(train_r2))\n",
    "print(\"Test R2: \"+ str(test_r2))\n",
    "y_pred = tree_regressor.predict(X_test)\n",
    "error = MSE(y_test,y_pred)\n",
    "print('MSE:')\n",
    "print(error)\n",
    "error_MAE = MAE(y_pred,y_test)\n",
    "print(\"MAE:\")\n",
    "print(error_MAE)"
   ],
   "metadata": {
    "collapsed": false,
    "pycharm": {
     "name": "#%%\n",
     "is_executing": false
    }
   }
  },
  {
   "cell_type": "code",
   "execution_count": 100,
   "outputs": [
    {
     "name": "stdout",
     "text": [
      "MAE MSP:\n1390.034525965575\nMSE MSP:\n17489863.58723825\n"
     ],
     "output_type": "stream"
    }
   ],
   "source": [
    "MAE_MSP = MAE(df['Actual Cost'],df['Total Cost'])\n",
    "print(\"MAE MSP:\")\n",
    "print(MAE_MSP)\n",
    "MSE_MSP = MSE(df['Actual Cost'],df['Total Cost'])\n",
    "print(\"MSE MSP:\")\n",
    "print(MSE_MSP)"
   ],
   "metadata": {
    "collapsed": false,
    "pycharm": {
     "name": "#%%\n",
     "is_executing": false
    }
   }
  },
  {
   "cell_type": "code",
   "execution_count": 6,
   "outputs": [
    {
     "name": "stdout",
     "text": [
      "1987\n"
     ],
     "output_type": "stream"
    }
   ],
   "source": [
    "# number of leaves\n",
    "print(tree_regressor.tree_.n_leaves)"
   ],
   "metadata": {
    "collapsed": false,
    "pycharm": {
     "name": "#%%\n",
     "is_executing": false
    }
   }
  },
  {
   "cell_type": "code",
   "execution_count": 7,
   "outputs": [
    {
     "data": {
      "text/plain": "True"
     },
     "metadata": {},
     "output_type": "execute_result",
     "execution_count": 7
    }
   ],
   "source": [
    "# Saving Tree Graph\n",
    "dot_data = tree.export_graphviz(tree_regressor, out_file=None, \n",
    "                                feature_names=['Duration','Total Cost'],class_names=['Acutal Cost'])\n",
    "graph = pydotplus.graph_from_dot_data(dot_data)  \n",
    "graph.write_svg(\"tree.svg\")\n"
   ],
   "metadata": {
    "collapsed": false,
    "pycharm": {
     "name": "#%%\n",
     "is_executing": false
    }
   }
  },
  {
   "cell_type": "code",
   "execution_count": 8,
   "outputs": [],
   "source": [
    "# Saving model\n",
    "pkl_filename = \"tree.pkl\"\n",
    "with open(pkl_filename, 'wb') as file:\n",
    "    pickle.dump(tree_regressor, file)"
   ],
   "metadata": {
    "collapsed": false,
    "pycharm": {
     "name": "#%%\n",
     "is_executing": false
    }
   }
  },
  {
   "cell_type": "code",
   "execution_count": 9,
   "outputs": [
    {
     "name": "stdout",
     "text": [
      "MODEL IMPORTED!\n"
     ],
     "output_type": "stream"
    }
   ],
   "source": [
    "pkl_filename = \"tree.pkl\"\n",
    "with open(pkl_filename,'rb') as file:\n",
    "    model = pickle.load(file)\n",
    "print(\"MODEL IMPORTED!\")"
   ],
   "metadata": {
    "collapsed": false,
    "pycharm": {
     "name": "#%%\n",
     "is_executing": false
    }
   }
  },
  {
   "cell_type": "code",
   "execution_count": 10,
   "outputs": [
    {
     "data": {
      "text/plain": "array([42642.])"
     },
     "metadata": {},
     "output_type": "execute_result",
     "execution_count": 10
    }
   ],
   "source": [
    "model.predict([[100,100000000000000000000000000]])\n"
   ],
   "metadata": {
    "collapsed": false,
    "pycharm": {
     "name": "#%%\n",
     "is_executing": false
    }
   }
  }
 ],
 "metadata": {
  "language_info": {
   "codemirror_mode": {
    "name": "ipython",
    "version": 2
   },
   "file_extension": ".py",
   "mimetype": "text/x-python",
   "name": "python",
   "nbconvert_exporter": "python",
   "pygments_lexer": "ipython2",
   "version": "2.7.6"
  },
  "kernelspec": {
   "name": "python3",
   "language": "python",
   "display_name": "Python 3"
  },
  "pycharm": {
   "stem_cell": {
    "cell_type": "raw",
    "source": [],
    "metadata": {
     "collapsed": false
    }
   }
  }
 },
 "nbformat": 4,
 "nbformat_minor": 0
}